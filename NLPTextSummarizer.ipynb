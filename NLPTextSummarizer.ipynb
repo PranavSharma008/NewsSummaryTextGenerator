{
  "nbformat": 4,
  "nbformat_minor": 0,
  "metadata": {
    "colab": {
      "name": "NLPTextSummarizer.ipynb",
      "provenance": []
    },
    "kernelspec": {
      "name": "python3",
      "display_name": "Python 3"
    },
    "language_info": {
      "name": "python"
    },
    "accelerator": "GPU"
  },
  "cells": [
    {
      "cell_type": "code",
      "metadata": {
        "colab": {
          "base_uri": "https://localhost:8080/"
        },
        "id": "qjsDYrQjXwJb",
        "outputId": "55b91527-0f28-4f1e-decf-cdf35645370d"
      },
      "source": [
        "!pip install pyyaml h5py"
      ],
      "execution_count": 1,
      "outputs": [
        {
          "output_type": "stream",
          "name": "stdout",
          "text": [
            "Requirement already satisfied: pyyaml in /usr/local/lib/python3.7/dist-packages (3.13)\n",
            "Requirement already satisfied: h5py in /usr/local/lib/python3.7/dist-packages (3.1.0)\n",
            "Requirement already satisfied: numpy>=1.14.5 in /usr/local/lib/python3.7/dist-packages (from h5py) (1.19.5)\n",
            "Requirement already satisfied: cached-property in /usr/local/lib/python3.7/dist-packages (from h5py) (1.5.2)\n"
          ]
        }
      ]
    },
    {
      "cell_type": "code",
      "metadata": {
        "colab": {
          "base_uri": "https://localhost:8080/"
        },
        "id": "LDkEAHIXX2OF",
        "outputId": "4bc0d6ed-4c19-42c2-96fd-48efc360a1d8"
      },
      "source": [
        "import os\n",
        "\n",
        "import tensorflow as tf\n",
        "from tensorflow import keras\n",
        "\n",
        "print(tf.version.VERSION)"
      ],
      "execution_count": 2,
      "outputs": [
        {
          "output_type": "stream",
          "name": "stdout",
          "text": [
            "2.7.0\n"
          ]
        }
      ]
    },
    {
      "cell_type": "code",
      "metadata": {
        "id": "spbDFIoz53MD"
      },
      "source": [
        "import numpy as np # linear algebra\n",
        "import pandas as pd # data processing, CSV file I/O (e.g. pd.read_csv)"
      ],
      "execution_count": 3,
      "outputs": []
    },
    {
      "cell_type": "code",
      "metadata": {
        "colab": {
          "base_uri": "https://localhost:8080/"
        },
        "id": "rYdWThAukmnk",
        "outputId": "c7591887-8a7c-46bf-a6cc-e7a9b17c9e41"
      },
      "source": [
        "from google.colab import drive\n",
        "drive.mount('/content/drive',force_remount=True)"
      ],
      "execution_count": 4,
      "outputs": [
        {
          "output_type": "stream",
          "name": "stdout",
          "text": [
            "Mounted at /content/drive\n"
          ]
        }
      ]
    },
    {
      "cell_type": "code",
      "metadata": {
        "colab": {
          "base_uri": "https://localhost:8080/",
          "height": 641
        },
        "id": "y3E3r8uH6fl8",
        "outputId": "3491d326-8b01-4dc4-cb63-2a130cf1b2d5"
      },
      "source": [
        "\n",
        "news_summary = pd.read_csv('/content/drive/MyDrive/archive/news_summary_more.csv', encoding='iso-8859-1')\n",
        "news_articles = pd.read_csv('/content/drive/MyDrive/archive/news_summary.csv', encoding='iso-8859-1')\n",
        "\n",
        "news_summary.dropna()\n",
        "news_articles.dropna()"
      ],
      "execution_count": 5,
      "outputs": [
        {
          "output_type": "execute_result",
          "data": {
            "text/html": [
              "\n",
              "  <div id=\"df-4278f2d9-91b7-4206-b52a-773a6f7634c1\">\n",
              "    <div class=\"colab-df-container\">\n",
              "      <div>\n",
              "<style scoped>\n",
              "    .dataframe tbody tr th:only-of-type {\n",
              "        vertical-align: middle;\n",
              "    }\n",
              "\n",
              "    .dataframe tbody tr th {\n",
              "        vertical-align: top;\n",
              "    }\n",
              "\n",
              "    .dataframe thead th {\n",
              "        text-align: right;\n",
              "    }\n",
              "</style>\n",
              "<table border=\"1\" class=\"dataframe\">\n",
              "  <thead>\n",
              "    <tr style=\"text-align: right;\">\n",
              "      <th></th>\n",
              "      <th>author</th>\n",
              "      <th>date</th>\n",
              "      <th>headlines</th>\n",
              "      <th>read_more</th>\n",
              "      <th>text</th>\n",
              "      <th>ctext</th>\n",
              "    </tr>\n",
              "  </thead>\n",
              "  <tbody>\n",
              "    <tr>\n",
              "      <th>0</th>\n",
              "      <td>Chhavi Tyagi</td>\n",
              "      <td>03 Aug 2017,Thursday</td>\n",
              "      <td>Daman &amp; Diu revokes mandatory Rakshabandhan in...</td>\n",
              "      <td>http://www.hindustantimes.com/india-news/raksh...</td>\n",
              "      <td>The Administration of Union Territory Daman an...</td>\n",
              "      <td>The Daman and Diu administration on Wednesday ...</td>\n",
              "    </tr>\n",
              "    <tr>\n",
              "      <th>1</th>\n",
              "      <td>Daisy Mowke</td>\n",
              "      <td>03 Aug 2017,Thursday</td>\n",
              "      <td>Malaika slams user who trolled her for 'divorc...</td>\n",
              "      <td>http://www.hindustantimes.com/bollywood/malaik...</td>\n",
              "      <td>Malaika Arora slammed an Instagram user who tr...</td>\n",
              "      <td>From her special numbers to TV?appearances, Bo...</td>\n",
              "    </tr>\n",
              "    <tr>\n",
              "      <th>2</th>\n",
              "      <td>Arshiya Chopra</td>\n",
              "      <td>03 Aug 2017,Thursday</td>\n",
              "      <td>'Virgin' now corrected to 'Unmarried' in IGIMS...</td>\n",
              "      <td>http://www.hindustantimes.com/patna/bihar-igim...</td>\n",
              "      <td>The Indira Gandhi Institute of Medical Science...</td>\n",
              "      <td>The Indira Gandhi Institute of Medical Science...</td>\n",
              "    </tr>\n",
              "    <tr>\n",
              "      <th>3</th>\n",
              "      <td>Sumedha Sehra</td>\n",
              "      <td>03 Aug 2017,Thursday</td>\n",
              "      <td>Aaj aapne pakad liya: LeT man Dujana before be...</td>\n",
              "      <td>http://indiatoday.intoday.in/story/abu-dujana-...</td>\n",
              "      <td>Lashkar-e-Taiba's Kashmir commander Abu Dujana...</td>\n",
              "      <td>Lashkar-e-Taiba's Kashmir commander Abu Dujana...</td>\n",
              "    </tr>\n",
              "    <tr>\n",
              "      <th>4</th>\n",
              "      <td>Aarushi Maheshwari</td>\n",
              "      <td>03 Aug 2017,Thursday</td>\n",
              "      <td>Hotel staff to get training to spot signs of s...</td>\n",
              "      <td>http://indiatoday.intoday.in/story/sex-traffic...</td>\n",
              "      <td>Hotels in Maharashtra will train their staff t...</td>\n",
              "      <td>Hotels in Mumbai and other Indian cities are t...</td>\n",
              "    </tr>\n",
              "    <tr>\n",
              "      <th>...</th>\n",
              "      <td>...</td>\n",
              "      <td>...</td>\n",
              "      <td>...</td>\n",
              "      <td>...</td>\n",
              "      <td>...</td>\n",
              "      <td>...</td>\n",
              "    </tr>\n",
              "    <tr>\n",
              "      <th>4509</th>\n",
              "      <td>Mansha Mahajan</td>\n",
              "      <td>24 Feb 2017,Friday</td>\n",
              "      <td>Rasna seeking ?250 cr revenue from snack categ...</td>\n",
              "      <td>http://indiatoday.intoday.in/story/rasna-eyes-...</td>\n",
              "      <td>Fruit juice concentrate maker Rasna is eyeing ...</td>\n",
              "      <td>Mumbai, Feb 23 (PTI) Fruit juice concentrate m...</td>\n",
              "    </tr>\n",
              "    <tr>\n",
              "      <th>4510</th>\n",
              "      <td>Dishant Sharma</td>\n",
              "      <td>03 Aug 2017,Thursday</td>\n",
              "      <td>Sachin attends Rajya Sabha after questions on ...</td>\n",
              "      <td>http://indiatoday.intoday.in/story/sachin-tend...</td>\n",
              "      <td>Former Indian cricketer Sachin Tendulkar atten...</td>\n",
              "      <td>Former cricketer Sachin Tendulkar was spotted ...</td>\n",
              "    </tr>\n",
              "    <tr>\n",
              "      <th>4511</th>\n",
              "      <td>Tanya Dhingra</td>\n",
              "      <td>03 Aug 2017,Thursday</td>\n",
              "      <td>Shouldn't rob their childhood: Aamir on kids r...</td>\n",
              "      <td>http://www.hindustantimes.com/bollywood/secret...</td>\n",
              "      <td>Aamir Khan, while talking about reality shows ...</td>\n",
              "      <td>Aamir Khan, whose last film Dangal told the st...</td>\n",
              "    </tr>\n",
              "    <tr>\n",
              "      <th>4512</th>\n",
              "      <td>Pragya Swastik</td>\n",
              "      <td>07 Dec 2016,Wednesday</td>\n",
              "      <td>Asha Bhosle gets ?53,000 power bill for unused...</td>\n",
              "      <td>http://indiatoday.intoday.in/story/singer-asha...</td>\n",
              "      <td>The Maharashtra government has initiated an in...</td>\n",
              "      <td>Maharahstra Power Minister Chandrashekhar Bawa...</td>\n",
              "    </tr>\n",
              "    <tr>\n",
              "      <th>4513</th>\n",
              "      <td>Chhavi Tyagi</td>\n",
              "      <td>03 Aug 2017,Thursday</td>\n",
              "      <td>More than half of India's languages may die in...</td>\n",
              "      <td>http://indiatoday.intoday.in/story/indian-lang...</td>\n",
              "      <td>At least 400 languages or more than half langu...</td>\n",
              "      <td>More than half of the languages spoken by Indi...</td>\n",
              "    </tr>\n",
              "  </tbody>\n",
              "</table>\n",
              "<p>4396 rows × 6 columns</p>\n",
              "</div>\n",
              "      <button class=\"colab-df-convert\" onclick=\"convertToInteractive('df-4278f2d9-91b7-4206-b52a-773a6f7634c1')\"\n",
              "              title=\"Convert this dataframe to an interactive table.\"\n",
              "              style=\"display:none;\">\n",
              "        \n",
              "  <svg xmlns=\"http://www.w3.org/2000/svg\" height=\"24px\"viewBox=\"0 0 24 24\"\n",
              "       width=\"24px\">\n",
              "    <path d=\"M0 0h24v24H0V0z\" fill=\"none\"/>\n",
              "    <path d=\"M18.56 5.44l.94 2.06.94-2.06 2.06-.94-2.06-.94-.94-2.06-.94 2.06-2.06.94zm-11 1L8.5 8.5l.94-2.06 2.06-.94-2.06-.94L8.5 2.5l-.94 2.06-2.06.94zm10 10l.94 2.06.94-2.06 2.06-.94-2.06-.94-.94-2.06-.94 2.06-2.06.94z\"/><path d=\"M17.41 7.96l-1.37-1.37c-.4-.4-.92-.59-1.43-.59-.52 0-1.04.2-1.43.59L10.3 9.45l-7.72 7.72c-.78.78-.78 2.05 0 2.83L4 21.41c.39.39.9.59 1.41.59.51 0 1.02-.2 1.41-.59l7.78-7.78 2.81-2.81c.8-.78.8-2.07 0-2.86zM5.41 20L4 18.59l7.72-7.72 1.47 1.35L5.41 20z\"/>\n",
              "  </svg>\n",
              "      </button>\n",
              "      \n",
              "  <style>\n",
              "    .colab-df-container {\n",
              "      display:flex;\n",
              "      flex-wrap:wrap;\n",
              "      gap: 12px;\n",
              "    }\n",
              "\n",
              "    .colab-df-convert {\n",
              "      background-color: #E8F0FE;\n",
              "      border: none;\n",
              "      border-radius: 50%;\n",
              "      cursor: pointer;\n",
              "      display: none;\n",
              "      fill: #1967D2;\n",
              "      height: 32px;\n",
              "      padding: 0 0 0 0;\n",
              "      width: 32px;\n",
              "    }\n",
              "\n",
              "    .colab-df-convert:hover {\n",
              "      background-color: #E2EBFA;\n",
              "      box-shadow: 0px 1px 2px rgba(60, 64, 67, 0.3), 0px 1px 3px 1px rgba(60, 64, 67, 0.15);\n",
              "      fill: #174EA6;\n",
              "    }\n",
              "\n",
              "    [theme=dark] .colab-df-convert {\n",
              "      background-color: #3B4455;\n",
              "      fill: #D2E3FC;\n",
              "    }\n",
              "\n",
              "    [theme=dark] .colab-df-convert:hover {\n",
              "      background-color: #434B5C;\n",
              "      box-shadow: 0px 1px 3px 1px rgba(0, 0, 0, 0.15);\n",
              "      filter: drop-shadow(0px 1px 2px rgba(0, 0, 0, 0.3));\n",
              "      fill: #FFFFFF;\n",
              "    }\n",
              "  </style>\n",
              "\n",
              "      <script>\n",
              "        const buttonEl =\n",
              "          document.querySelector('#df-4278f2d9-91b7-4206-b52a-773a6f7634c1 button.colab-df-convert');\n",
              "        buttonEl.style.display =\n",
              "          google.colab.kernel.accessAllowed ? 'block' : 'none';\n",
              "\n",
              "        async function convertToInteractive(key) {\n",
              "          const element = document.querySelector('#df-4278f2d9-91b7-4206-b52a-773a6f7634c1');\n",
              "          const dataTable =\n",
              "            await google.colab.kernel.invokeFunction('convertToInteractive',\n",
              "                                                     [key], {});\n",
              "          if (!dataTable) return;\n",
              "\n",
              "          const docLinkHtml = 'Like what you see? Visit the ' +\n",
              "            '<a target=\"_blank\" href=https://colab.research.google.com/notebooks/data_table.ipynb>data table notebook</a>'\n",
              "            + ' to learn more about interactive tables.';\n",
              "          element.innerHTML = '';\n",
              "          dataTable['output_type'] = 'display_data';\n",
              "          await google.colab.output.renderOutput(dataTable, element);\n",
              "          const docLink = document.createElement('div');\n",
              "          docLink.innerHTML = docLinkHtml;\n",
              "          element.appendChild(docLink);\n",
              "        }\n",
              "      </script>\n",
              "    </div>\n",
              "  </div>\n",
              "  "
            ],
            "text/plain": [
              "                  author  ...                                              ctext\n",
              "0           Chhavi Tyagi  ...  The Daman and Diu administration on Wednesday ...\n",
              "1            Daisy Mowke  ...  From her special numbers to TV?appearances, Bo...\n",
              "2         Arshiya Chopra  ...  The Indira Gandhi Institute of Medical Science...\n",
              "3          Sumedha Sehra  ...  Lashkar-e-Taiba's Kashmir commander Abu Dujana...\n",
              "4     Aarushi Maheshwari  ...  Hotels in Mumbai and other Indian cities are t...\n",
              "...                  ...  ...                                                ...\n",
              "4509      Mansha Mahajan  ...  Mumbai, Feb 23 (PTI) Fruit juice concentrate m...\n",
              "4510      Dishant Sharma  ...  Former cricketer Sachin Tendulkar was spotted ...\n",
              "4511       Tanya Dhingra  ...  Aamir Khan, whose last film Dangal told the st...\n",
              "4512      Pragya Swastik  ...  Maharahstra Power Minister Chandrashekhar Bawa...\n",
              "4513        Chhavi Tyagi  ...  More than half of the languages spoken by Indi...\n",
              "\n",
              "[4396 rows x 6 columns]"
            ]
          },
          "metadata": {},
          "execution_count": 5
        }
      ]
    },
    {
      "cell_type": "code",
      "metadata": {
        "id": "i7pAJ0IO0rZT"
      },
      "source": [
        "summary = pd.read_csv('/content/drive/MyDrive/archive/news_summary.csv', encoding='iso-8859-1')\n",
        "raw = pd.read_csv('/content/drive/MyDrive/archive/news_summary_more.csv', encoding='iso-8859-1')\n",
        "\n",
        "# pre1['head + text'] = pre1['headlines'].str.cat(pre1['text'], sep =\" \") "
      ],
      "execution_count": null,
      "outputs": []
    },
    {
      "cell_type": "code",
      "metadata": {
        "id": "eF6lWwo61IRD"
      },
      "source": [
        "pre1 =  raw.iloc[:,0:2].copy()"
      ],
      "execution_count": null,
      "outputs": []
    },
    {
      "cell_type": "code",
      "metadata": {
        "id": "j_FfPlyl1FYw"
      },
      "source": [
        "pre2 = summary.iloc[:,0:6].copy()\n",
        "pre2['text'] = pre2['author'].str.cat(pre2['date'].str.cat(pre2['read_more'].str.cat(pre2['text'].str.cat(pre2['ctext'], sep = \" \"), sep =\" \"),sep= \" \"), sep = \" \")\n",
        "pre = pd.DataFrame()\n",
        "pre['text'] = pd.concat([pre1['text'], pre2['text']], ignore_index=True)\n",
        "pre['summary'] = pd.concat([pre1['headlines'],pre2['headlines']],ignore_index = True)"
      ],
      "execution_count": null,
      "outputs": []
    },
    {
      "cell_type": "code",
      "metadata": {
        "colab": {
          "base_uri": "https://localhost:8080/"
        },
        "id": "uBxwRgyM1yY_",
        "outputId": "af0ba771-cd99-48c1-8846-346d8a3b8e89"
      },
      "source": [
        "pre2['headlines']"
      ],
      "execution_count": null,
      "outputs": [
        {
          "output_type": "execute_result",
          "data": {
            "text/plain": [
              "0       Daman & Diu revokes mandatory Rakshabandhan in...\n",
              "1       Malaika slams user who trolled her for 'divorc...\n",
              "2       'Virgin' now corrected to 'Unmarried' in IGIMS...\n",
              "3       Aaj aapne pakad liya: LeT man Dujana before be...\n",
              "4       Hotel staff to get training to spot signs of s...\n",
              "                              ...                        \n",
              "4509    Rasna seeking ?250 cr revenue from snack categ...\n",
              "4510    Sachin attends Rajya Sabha after questions on ...\n",
              "4511    Shouldn't rob their childhood: Aamir on kids r...\n",
              "4512    Asha Bhosle gets ?53,000 power bill for unused...\n",
              "4513    More than half of India's languages may die in...\n",
              "Name: headlines, Length: 4514, dtype: object"
            ]
          },
          "metadata": {},
          "execution_count": 9
        }
      ]
    },
    {
      "cell_type": "code",
      "metadata": {
        "id": "XSn4R5EqJOYJ"
      },
      "source": [
        "import re\n",
        "\n",
        "#Removes non-alphabetic characters:\n",
        "def text_strip(column):\n",
        "    for row in column:\n",
        "        \n",
        "        #ORDER OF REGEX IS VERY VERY IMPORTANT!!!!!!\n",
        "        \n",
        "        row=re.sub(\"(\\\\t)\", ' ', str(row)).lower() #remove escape charecters\n",
        "        row=re.sub(\"(\\\\r)\", ' ', str(row)).lower() \n",
        "        row=re.sub(\"(\\\\n)\", ' ', str(row)).lower()\n",
        "        \n",
        "        row=re.sub(\"(__+)\", ' ', str(row)).lower()   #remove _ if it occors more than one time consecutively\n",
        "        row=re.sub(\"(--+)\", ' ', str(row)).lower()   #remove - if it occors more than one time consecutively\n",
        "        row=re.sub(\"(~~+)\", ' ', str(row)).lower()   #remove ~ if it occors more than one time consecutively\n",
        "        row=re.sub(\"(\\+\\++)\", ' ', str(row)).lower()   #remove + if it occors more than one time consecutively\n",
        "        row=re.sub(\"(\\.\\.+)\", ' ', str(row)).lower()   #remove . if it occors more than one time consecutively\n",
        "        \n",
        "        row=re.sub(r\"[<>()|&©ø\\[\\]\\'\\\",;?~*!]\", ' ', str(row)).lower() #remove <>()|&©ø\"',;?~*!\n",
        "        \n",
        "        row=re.sub(\"(mailto:)\", ' ', str(row)).lower() #remove mailto:\n",
        "        row=re.sub(r\"(\\\\x9\\d)\", ' ', str(row)).lower() #remove \\x9* in text\n",
        "        row=re.sub(\"([iI][nN][cC]\\d+)\", 'INC_NUM', str(row)).lower() #replace INC nums to INC_NUM\n",
        "        row=re.sub(\"([cC][mM]\\d+)|([cC][hH][gG]\\d+)\", 'CM_NUM', str(row)).lower() #replace CM# and CHG# to CM_NUM\n",
        "        \n",
        "        \n",
        "        row=re.sub(\"(\\.\\s+)\", ' ', str(row)).lower() #remove full stop at end of words(not between)\n",
        "        row=re.sub(\"(\\-\\s+)\", ' ', str(row)).lower() #remove - at end of words(not between)\n",
        "        row=re.sub(\"(\\:\\s+)\", ' ', str(row)).lower() #remove : at end of words(not between)\n",
        "        \n",
        "        row=re.sub(\"(\\s+.\\s+)\", ' ', str(row)).lower() #remove any single charecters hanging between 2 spaces\n",
        "        \n",
        "        #Replace any url as such https://abc.xyz.net/browse/sdf-5327 ====> abc.xyz.net\n",
        "        try:\n",
        "            url = re.search(r'((https*:\\/*)([^\\/\\s]+))(.[^\\s]+)', str(row))\n",
        "            repl_url = url.group(3)\n",
        "            row = re.sub(r'((https*:\\/*)([^\\/\\s]+))(.[^\\s]+)',repl_url, str(row))\n",
        "        except:\n",
        "            pass #there might be emails with no url in them\n",
        "        \n",
        "\n",
        "        \n",
        "        row = re.sub(\"(\\s+)\",' ',str(row)).lower() #remove multiple spaces\n",
        "        \n",
        "        #Should always be last\n",
        "        row=re.sub(\"(\\s+.\\s+)\", ' ', str(row)).lower() #remove any single charecters hanging between 2 spaces\n",
        "       \n",
        "        yield row"
      ],
      "execution_count": null,
      "outputs": []
    },
    {
      "cell_type": "code",
      "metadata": {
        "id": "aucoMwvov0jh"
      },
      "source": [
        "brief_cleaning1 = text_strip(pre['text'])\n",
        "brief_cleaning2 = text_strip(pre['summary'])\n"
      ],
      "execution_count": null,
      "outputs": []
    },
    {
      "cell_type": "code",
      "metadata": {
        "colab": {
          "base_uri": "https://localhost:8080/"
        },
        "id": "-6sChM-h20Qe",
        "outputId": "eac5daac-ec2a-4852-987a-9aeb398cb920"
      },
      "source": [
        "dir(brief_cleaning1)\n"
      ],
      "execution_count": null,
      "outputs": [
        {
          "output_type": "execute_result",
          "data": {
            "text/plain": [
              "['__class__',\n",
              " '__del__',\n",
              " '__delattr__',\n",
              " '__dir__',\n",
              " '__doc__',\n",
              " '__eq__',\n",
              " '__format__',\n",
              " '__ge__',\n",
              " '__getattribute__',\n",
              " '__gt__',\n",
              " '__hash__',\n",
              " '__init__',\n",
              " '__init_subclass__',\n",
              " '__iter__',\n",
              " '__le__',\n",
              " '__lt__',\n",
              " '__name__',\n",
              " '__ne__',\n",
              " '__new__',\n",
              " '__next__',\n",
              " '__qualname__',\n",
              " '__reduce__',\n",
              " '__reduce_ex__',\n",
              " '__repr__',\n",
              " '__setattr__',\n",
              " '__sizeof__',\n",
              " '__str__',\n",
              " '__subclasshook__',\n",
              " 'close',\n",
              " 'gi_code',\n",
              " 'gi_frame',\n",
              " 'gi_running',\n",
              " 'gi_yieldfrom',\n",
              " 'send',\n",
              " 'throw']"
            ]
          },
          "metadata": {},
          "execution_count": 12
        }
      ]
    },
    {
      "cell_type": "code",
      "metadata": {
        "colab": {
          "base_uri": "https://localhost:8080/"
        },
        "id": "BHhhMdaL2yhP",
        "outputId": "a59f04ea-6da3-476a-c55f-2439c73aba44"
      },
      "source": [
        "from time import time\n",
        "import spacy\n",
        "nlp = spacy.load('en', disable=['ner', 'parser']) # disabling Named Entity Recognition for speed\n",
        "\n",
        "#Taking advantage of spaCy .pipe() method to speed-up the cleaning process:\n",
        "#If data loss seems to be happening(i.e len(text) = 50 instead of 75 etc etc) in this cell , decrease the batch_size parametre \n",
        "\n",
        "t = time()\n",
        "\n",
        "#Batch the data points into 5000 and run on all cores for faster preprocessing\n",
        "text = [str(doc) for doc in nlp.pipe(brief_cleaning1, batch_size=5000, n_threads=-1)]\n",
        "\n",
        "#Takes 7-8 mins\n",
        "print('Time to clean up everything: {} mins'.format(round((time() - t) / 60, 2)))"
      ],
      "execution_count": null,
      "outputs": [
        {
          "output_type": "stream",
          "name": "stdout",
          "text": [
            "Time to clean up everything: 5.18 mins\n"
          ]
        }
      ]
    },
    {
      "cell_type": "code",
      "metadata": {
        "colab": {
          "base_uri": "https://localhost:8080/"
        },
        "id": "szBq3bfw5eeA",
        "outputId": "23e67d1e-ac56-4b27-a676-106807111831"
      },
      "source": [
        "#Taking advantage of spaCy .pipe() method to speed-up the cleaning process:\n",
        "\n",
        "\n",
        "t = time()\n",
        "\n",
        "#Batch the data points into 5000 and run on all cores for faster preprocessing\n",
        "summary = ['_START_ '+ str(doc) + ' _END_' for doc in nlp.pipe(brief_cleaning2, batch_size=5000, n_threads=-1)]\n",
        "\n",
        "#Takes 7-8 mins\n",
        "print('Time to clean up everything: {} mins'.format(round((time() - t) / 60, 2)))"
      ],
      "execution_count": null,
      "outputs": [
        {
          "output_type": "stream",
          "name": "stdout",
          "text": [
            "Time to clean up everything: 1.01 mins\n"
          ]
        }
      ]
    },
    {
      "cell_type": "code",
      "metadata": {
        "id": "tut9hN9H5wLa"
      },
      "source": [
        "pre['cleaned_text'] = pd.Series(text)\n",
        "pre['cleaned_summary'] = pd.Series(summary)"
      ],
      "execution_count": null,
      "outputs": []
    },
    {
      "cell_type": "code",
      "metadata": {
        "colab": {
          "base_uri": "https://localhost:8080/",
          "height": 281
        },
        "id": "MpheJ0Hl5zHT",
        "outputId": "ac20f654-e33b-4152-cda0-6118527b2e05"
      },
      "source": [
        "text_count = []\n",
        "summary_count = []\n",
        "for sent in pre['cleaned_text']:\n",
        "    text_count.append(len(sent.split()))\n",
        "for sent in pre['cleaned_summary']:\n",
        "    summary_count.append(len(sent.split()))\n",
        "graph_df= pd.DataFrame()\n",
        "graph_df['text']=text_count\n",
        "graph_df['summary']=summary_count\n",
        "import matplotlib.pyplot as plt\n",
        "\n",
        "graph_df.hist(bins = 5)\n",
        "plt.show()"
      ],
      "execution_count": null,
      "outputs": [
        {
          "output_type": "display_data",
          "data": {
            "image/png": "[encoded data removed]",
            "text/plain": [
              "<Figure size 432x288 with 2 Axes>"
            ]
          },
          "metadata": {
            "needs_background": "light"
          }
        }
      ]
    },
    {
      "cell_type": "code",
      "metadata": {
        "colab": {
          "base_uri": "https://localhost:8080/"
        },
        "id": "m_O7xgRO6OmQ",
        "outputId": "7dc140c4-3e40-4264-a86e-37f4a65e931f"
      },
      "source": [
        "#Check how much % of summary have 0-15 words\n",
        "cnt=0\n",
        "for i in pre['cleaned_summary']:\n",
        "    if(len(i.split())<=15):\n",
        "        cnt=cnt+1\n",
        "print(cnt/len(pre['cleaned_summary']))\n",
        "\n"
      ],
      "execution_count": null,
      "outputs": [
        {
          "output_type": "stream",
          "name": "stdout",
          "text": [
            "0.9978234465335472\n"
          ]
        }
      ]
    },
    {
      "cell_type": "code",
      "metadata": {
        "colab": {
          "base_uri": "https://localhost:8080/"
        },
        "id": "gCjK-BVH6Rmg",
        "outputId": "e34bc205-4fcb-45d1-be07-3da108a63f6c"
      },
      "source": [
        "#Check how much % of text have 0-70 words\n",
        "cnt=0\n",
        "for i in pre['cleaned_text']:\n",
        "    if(len(i.split())<=100):\n",
        "        cnt=cnt+1\n",
        "print(cnt/len(pre['cleaned_text']))\n",
        "\n",
        "#Model to summarize the text between 0-15 words for Summary and 0-100 words for Text\n",
        "max_text_len=100\n",
        "max_summary_len=15\n"
      ],
      "execution_count": null,
      "outputs": [
        {
          "output_type": "stream",
          "name": "stdout",
          "text": [
            "0.9578389933440218\n"
          ]
        }
      ]
    },
    {
      "cell_type": "code",
      "metadata": {
        "colab": {
          "base_uri": "https://localhost:8080/",
          "height": 206
        },
        "id": "Yk3JqMMn6XvF",
        "outputId": "8eb7f52d-6248-4ee2-ddb3-dbfbedffa81c"
      },
      "source": [
        "#Select the Summaries and Text between max len defined above\n",
        "\n",
        "cleaned_text =np.array(pre['cleaned_text'])\n",
        "cleaned_summary=np.array(pre['cleaned_summary'])\n",
        "\n",
        "short_text=[]\n",
        "short_summary=[]\n",
        "\n",
        "#for i in range(len(cleaned_text)):\n",
        "for i in range(10291):\n",
        "    if(len(cleaned_summary[i].split())<=max_summary_len and len(cleaned_text[i].split())<=max_text_len):\n",
        "        short_text.append(cleaned_text[i])\n",
        "        short_summary.append(cleaned_summary[i])\n",
        "        \n",
        "post_pre=pd.DataFrame({'text':short_text,'summary':short_summary})\n",
        "post_pre.head()\n"
      ],
      "execution_count": null,
      "outputs": [
        {
          "output_type": "execute_result",
          "data": {
            "text/html": [
              "<div>\n",
              "<style scoped>\n",
              "    .dataframe tbody tr th:only-of-type {\n",
              "        vertical-align: middle;\n",
              "    }\n",
              "\n",
              "    .dataframe tbody tr th {\n",
              "        vertical-align: top;\n",
              "    }\n",
              "\n",
              "    .dataframe thead th {\n",
              "        text-align: right;\n",
              "    }\n",
              "</style>\n",
              "<table border=\"1\" class=\"dataframe\">\n",
              "  <thead>\n",
              "    <tr style=\"text-align: right;\">\n",
              "      <th></th>\n",
              "      <th>text</th>\n",
              "      <th>summary</th>\n",
              "    </tr>\n",
              "  </thead>\n",
              "  <tbody>\n",
              "    <tr>\n",
              "      <th>0</th>\n",
              "      <td>saurav kant an alumnus of upgrad and iiit-b pg...</td>\n",
              "      <td>_START_ upgrad learner switches to career in m...</td>\n",
              "    </tr>\n",
              "    <tr>\n",
              "      <th>1</th>\n",
              "      <td>kunal shah credit card bill payment platform c...</td>\n",
              "      <td>_START_ delhi techie wins free food from swigg...</td>\n",
              "    </tr>\n",
              "    <tr>\n",
              "      <th>2</th>\n",
              "      <td>new zealand defeated india by wickets in the f...</td>\n",
              "      <td>_START_ new zealand end rohit sharma-led india...</td>\n",
              "    </tr>\n",
              "    <tr>\n",
              "      <th>3</th>\n",
              "      <td>with aegon life iterm insurance plan customers...</td>\n",
              "      <td>_START_ aegon life iterm insurance plan helps ...</td>\n",
              "    </tr>\n",
              "    <tr>\n",
              "      <th>4</th>\n",
              "      <td>speaking about the sexual harassment allegatio...</td>\n",
              "      <td>_START_ have known hirani for yrs what if meto...</td>\n",
              "    </tr>\n",
              "  </tbody>\n",
              "</table>\n",
              "</div>"
            ],
            "text/plain": [
              "                                                text                                            summary\n",
              "0  saurav kant an alumnus of upgrad and iiit-b pg...  _START_ upgrad learner switches to career in m...\n",
              "1  kunal shah credit card bill payment platform c...  _START_ delhi techie wins free food from swigg...\n",
              "2  new zealand defeated india by wickets in the f...  _START_ new zealand end rohit sharma-led india...\n",
              "3  with aegon life iterm insurance plan customers...  _START_ aegon life iterm insurance plan helps ...\n",
              "4  speaking about the sexual harassment allegatio...  _START_ have known hirani for yrs what if meto..."
            ]
          },
          "metadata": {},
          "execution_count": 19
        }
      ]
    },
    {
      "cell_type": "code",
      "source": [
        "len(cleaned_text)"
      ],
      "metadata": {
        "colab": {
          "base_uri": "https://localhost:8080/"
        },
        "id": "GKkvrnOJrp8b",
        "outputId": "28f7a44e-9286-4738-e743-2a1eadecd857"
      },
      "execution_count": null,
      "outputs": [
        {
          "output_type": "execute_result",
          "data": {
            "text/plain": [
              "102915"
            ]
          },
          "metadata": {},
          "execution_count": 20
        }
      ]
    },
    {
      "cell_type": "code",
      "metadata": {
        "id": "2r85pu927YnD"
      },
      "source": [
        "#Add sostok and eostok at \n",
        "post_pre['summary'] = post_pre['summary'].apply(lambda x : 'sostok '+ x + ' eostok')\n"
      ],
      "execution_count": null,
      "outputs": []
    },
    {
      "cell_type": "code",
      "metadata": {
        "colab": {
          "base_uri": "https://localhost:8080/",
          "height": 206
        },
        "id": "SNl_wyAW7mMF",
        "outputId": "a346118a-7ea7-464a-e4ee-abf8e71167dd"
      },
      "source": [
        "post_pre.head()"
      ],
      "execution_count": null,
      "outputs": [
        {
          "output_type": "execute_result",
          "data": {
            "text/html": [
              "<div>\n",
              "<style scoped>\n",
              "    .dataframe tbody tr th:only-of-type {\n",
              "        vertical-align: middle;\n",
              "    }\n",
              "\n",
              "    .dataframe tbody tr th {\n",
              "        vertical-align: top;\n",
              "    }\n",
              "\n",
              "    .dataframe thead th {\n",
              "        text-align: right;\n",
              "    }\n",
              "</style>\n",
              "<table border=\"1\" class=\"dataframe\">\n",
              "  <thead>\n",
              "    <tr style=\"text-align: right;\">\n",
              "      <th></th>\n",
              "      <th>text</th>\n",
              "      <th>summary</th>\n",
              "    </tr>\n",
              "  </thead>\n",
              "  <tbody>\n",
              "    <tr>\n",
              "      <th>0</th>\n",
              "      <td>saurav kant an alumnus of upgrad and iiit-b pg...</td>\n",
              "      <td>sostok _START_ upgrad learner switches to care...</td>\n",
              "    </tr>\n",
              "    <tr>\n",
              "      <th>1</th>\n",
              "      <td>kunal shah credit card bill payment platform c...</td>\n",
              "      <td>sostok _START_ delhi techie wins free food fro...</td>\n",
              "    </tr>\n",
              "    <tr>\n",
              "      <th>2</th>\n",
              "      <td>new zealand defeated india by wickets in the f...</td>\n",
              "      <td>sostok _START_ new zealand end rohit sharma-le...</td>\n",
              "    </tr>\n",
              "    <tr>\n",
              "      <th>3</th>\n",
              "      <td>with aegon life iterm insurance plan customers...</td>\n",
              "      <td>sostok _START_ aegon life iterm insurance plan...</td>\n",
              "    </tr>\n",
              "    <tr>\n",
              "      <th>4</th>\n",
              "      <td>speaking about the sexual harassment allegatio...</td>\n",
              "      <td>sostok _START_ have known hirani for yrs what ...</td>\n",
              "    </tr>\n",
              "  </tbody>\n",
              "</table>\n",
              "</div>"
            ],
            "text/plain": [
              "                                                text                                            summary\n",
              "0  saurav kant an alumnus of upgrad and iiit-b pg...  sostok _START_ upgrad learner switches to care...\n",
              "1  kunal shah credit card bill payment platform c...  sostok _START_ delhi techie wins free food fro...\n",
              "2  new zealand defeated india by wickets in the f...  sostok _START_ new zealand end rohit sharma-le...\n",
              "3  with aegon life iterm insurance plan customers...  sostok _START_ aegon life iterm insurance plan...\n",
              "4  speaking about the sexual harassment allegatio...  sostok _START_ have known hirani for yrs what ..."
            ]
          },
          "metadata": {},
          "execution_count": 22
        }
      ]
    },
    {
      "cell_type": "code",
      "metadata": {
        "id": "4mc86h027pBT"
      },
      "source": [
        "from sklearn.model_selection import train_test_split\n",
        "x_tr,x_val,y_tr,y_val=train_test_split(np.array(post_pre['text']),np.array(post_pre['summary']),test_size=0.2,random_state=0,shuffle=True)"
      ],
      "execution_count": null,
      "outputs": []
    },
    {
      "cell_type": "code",
      "metadata": {
        "id": "dIZ15LU-8zMF",
        "colab": {
          "base_uri": "https://localhost:8080/"
        },
        "outputId": "8f5ad3ea-d8f0-4eab-e84b-a25bda72c1a0"
      },
      "source": [
        "np.shape(x_tr)"
      ],
      "execution_count": null,
      "outputs": [
        {
          "output_type": "execute_result",
          "data": {
            "text/plain": [
              "(8145,)"
            ]
          },
          "metadata": {},
          "execution_count": 24
        }
      ]
    },
    {
      "cell_type": "code",
      "metadata": {
        "id": "cuqYIM5s7u49"
      },
      "source": [
        "from keras.preprocessing.text import Tokenizer \n",
        "from keras.preprocessing.sequence import pad_sequences\n",
        "\n",
        "#prepare a tokenizer for reviews on training data\n",
        "x_tokenizer = Tokenizer() \n",
        "x_tokenizer.fit_on_texts(list(x_tr))"
      ],
      "execution_count": null,
      "outputs": []
    },
    {
      "cell_type": "code",
      "metadata": {
        "colab": {
          "base_uri": "https://localhost:8080/"
        },
        "id": "uDZpu6_B8Saa",
        "outputId": "8232cfe4-3ac3-4df7-eb36-471c9a77d8b4"
      },
      "source": [
        "thresh=4\n",
        "\n",
        "cnt=0\n",
        "tot_cnt=0\n",
        "freq=0\n",
        "tot_freq=0\n",
        "\n",
        "for key,value in x_tokenizer.word_counts.items():\n",
        "    tot_cnt=tot_cnt+1\n",
        "    tot_freq=tot_freq+value\n",
        "    if(value<thresh):\n",
        "        cnt=cnt+1\n",
        "        freq=freq+value\n",
        "    \n",
        "print(\"% of rare words in vocabulary:\",(cnt/tot_cnt)*100)\n",
        "print(\"Total Coverage of rare words:\",(freq/tot_freq)*100)"
      ],
      "execution_count": null,
      "outputs": [
        {
          "output_type": "stream",
          "name": "stdout",
          "text": [
            "% of rare words in vocabulary: 63.91265530838479\n",
            "Total Coverage of rare words: 5.461860403458456\n"
          ]
        }
      ]
    },
    {
      "cell_type": "code",
      "metadata": {
        "colab": {
          "base_uri": "https://localhost:8080/"
        },
        "id": "wT2yjH1c9SkE",
        "outputId": "fc95973a-4421-4506-96f3-7ef63b2bf031"
      },
      "source": [
        "x_tokenizer"
      ],
      "execution_count": null,
      "outputs": [
        {
          "output_type": "execute_result",
          "data": {
            "text/plain": [
              "<keras_preprocessing.text.Tokenizer at 0x7fc742d5b390>"
            ]
          },
          "metadata": {},
          "execution_count": 27
        }
      ]
    },
    {
      "cell_type": "code",
      "metadata": {
        "id": "FykZ9c6U7u8_"
      },
      "source": [
        "#prepare a tokenizer for reviews on training data\n",
        "x_tokenizer = Tokenizer(num_words=tot_cnt-cnt) \n",
        "x_tokenizer.fit_on_texts(list(x_tr))\n",
        "\n"
      ],
      "execution_count": null,
      "outputs": []
    },
    {
      "cell_type": "code",
      "metadata": {
        "id": "VbFpegLK9XFd"
      },
      "source": [
        "#convert text sequences into integer sequences (i.e one-hot encoding all the words)\n",
        "x_tr_seq    =   x_tokenizer.texts_to_sequences(x_tr) \n",
        "x_val_seq   =   x_tokenizer.texts_to_sequences(x_val)"
      ],
      "execution_count": null,
      "outputs": []
    },
    {
      "cell_type": "code",
      "metadata": {
        "id": "LOLr6jZw9eaa"
      },
      "source": [
        "#padding zero upto maximum length\n",
        "x_tr    =   pad_sequences(x_tr_seq,  maxlen=max_text_len, padding='post')\n",
        "x_val   =   pad_sequences(x_val_seq, maxlen=max_text_len, padding='post')\n"
      ],
      "execution_count": null,
      "outputs": []
    },
    {
      "cell_type": "code",
      "metadata": {
        "colab": {
          "base_uri": "https://localhost:8080/"
        },
        "id": "jNzhiEJTCIqQ",
        "outputId": "9071d324-7452-4572-b7d7-769429090f73"
      },
      "source": [
        "print(np.shape(x_tr))\n",
        "print(np.shape(x_val))\n",
        "type(x_tr)"
      ],
      "execution_count": null,
      "outputs": [
        {
          "output_type": "stream",
          "name": "stdout",
          "text": [
            "(8145, 100)\n",
            "(2037, 100)\n"
          ]
        },
        {
          "output_type": "execute_result",
          "data": {
            "text/plain": [
              "numpy.ndarray"
            ]
          },
          "metadata": {},
          "execution_count": 31
        }
      ]
    },
    {
      "cell_type": "code",
      "metadata": {
        "colab": {
          "base_uri": "https://localhost:8080/"
        },
        "id": "PUVX-XLV8Xo9",
        "outputId": "3b228962-e325-481e-eb00-299c841b8f4c"
      },
      "source": [
        "#size of vocabulary ( +1 for padding token)\n",
        "x_voc   =  x_tokenizer.num_words + 1\n",
        "\n",
        "print(\"Size of vocabulary in X = {}\".format(x_voc))"
      ],
      "execution_count": null,
      "outputs": [
        {
          "output_type": "stream",
          "name": "stdout",
          "text": [
            "Size of vocabulary in X = 9702\n"
          ]
        }
      ]
    },
    {
      "cell_type": "code",
      "metadata": {
        "id": "liaxmjgWCxmU"
      },
      "source": [
        "#prepare a tokenizer for reviews on training data\n",
        "y_tokenizer = Tokenizer()   \n",
        "y_tokenizer.fit_on_texts(list(y_tr))\n",
        "\n",
        "\n"
      ],
      "execution_count": null,
      "outputs": []
    },
    {
      "cell_type": "code",
      "metadata": {
        "colab": {
          "base_uri": "https://localhost:8080/"
        },
        "id": "W8dPI_47DODn",
        "outputId": "22e09ef3-438b-486f-92cf-5abd7baa2bf9"
      },
      "source": [
        "thresh=6\n",
        "cnt=0\n",
        "tot_cnt=0\n",
        "freq=0\n",
        "tot_freq=0\n",
        "\n",
        "for key,value in y_tokenizer.word_counts.items():\n",
        "    tot_cnt=tot_cnt+1\n",
        "    tot_freq=tot_freq+value\n",
        "    if(value<thresh):\n",
        "        cnt=cnt+1\n",
        "        freq=freq+value\n",
        "    \n",
        "print(\"% of rare words in vocabulary:\",(cnt/tot_cnt)*100)\n",
        "print(\"Total Coverage of rare words:\",(freq/tot_freq)*100)"
      ],
      "execution_count": null,
      "outputs": [
        {
          "output_type": "stream",
          "name": "stdout",
          "text": [
            "% of rare words in vocabulary: 79.79724249797242\n",
            "Total Coverage of rare words: 15.163342131452556\n"
          ]
        }
      ]
    },
    {
      "cell_type": "code",
      "metadata": {
        "id": "8IqGddxoDURG"
      },
      "source": [
        "#prepare a tokenizer for reviews on training data\n",
        "y_tokenizer = Tokenizer(num_words=tot_cnt-cnt) \n",
        "y_tokenizer.fit_on_texts(list(y_tr))\n"
      ],
      "execution_count": null,
      "outputs": []
    },
    {
      "cell_type": "code",
      "metadata": {
        "id": "34fs0q9uDX2G"
      },
      "source": [
        "#convert text sequences into integer sequences (i.e one hot encode the text in Y)\n",
        "y_tr_seq    =   y_tokenizer.texts_to_sequences(y_tr) \n",
        "y_val_seq   =   y_tokenizer.texts_to_sequences(y_val) "
      ],
      "execution_count": null,
      "outputs": []
    },
    {
      "cell_type": "code",
      "metadata": {
        "id": "VgNwcURKDZWr"
      },
      "source": [
        "#padding zero upto maximum length\n",
        "y_tr    =   pad_sequences(y_tr_seq, maxlen=max_summary_len, padding='post')\n",
        "y_val   =   pad_sequences(y_val_seq, maxlen=max_summary_len, padding='post')"
      ],
      "execution_count": null,
      "outputs": []
    },
    {
      "cell_type": "code",
      "metadata": {
        "colab": {
          "base_uri": "https://localhost:8080/"
        },
        "id": "ADhl4uTPDbFE",
        "outputId": "24520dcf-7f9a-4abd-c2d0-b3a777a8a75f"
      },
      "source": [
        "#size of vocabulary\n",
        "y_voc  =   y_tokenizer.num_words +1\n",
        "print(\"Size of vocabulary in Y = {}\".format(y_voc)) "
      ],
      "execution_count": null,
      "outputs": [
        {
          "output_type": "stream",
          "name": "stdout",
          "text": [
            "Size of vocabulary in Y = 2492\n"
          ]
        }
      ]
    },
    {
      "cell_type": "code",
      "metadata": {
        "id": "qm1Uif-xEvrf"
      },
      "source": [
        "ind=[]\n",
        "for i in range(len(y_tr)):\n",
        "    cnt=0\n",
        "    for j in y_tr[i]:\n",
        "        if j!=0:\n",
        "            cnt=cnt+1\n",
        "    if(cnt==2):\n",
        "        ind.append(i)\n",
        "\n",
        "y_tr=np.delete(y_tr,ind, axis=0)\n",
        "x_tr=np.delete(x_tr,ind, axis=0)\n"
      ],
      "execution_count": null,
      "outputs": []
    },
    {
      "cell_type": "code",
      "metadata": {
        "id": "kBKu_VPgFgVb"
      },
      "source": [
        "ind=[]\n",
        "for i in range(len(y_val)):\n",
        "    cnt=0\n",
        "    for j in y_val[i]:\n",
        "        if j!=0:\n",
        "            cnt=cnt+1\n",
        "    if(cnt==2):\n",
        "        ind.append(i)\n",
        "\n",
        "y_val=np.delete(y_val,ind, axis=0)\n",
        "x_val=np.delete(x_val,ind, axis=0)"
      ],
      "execution_count": null,
      "outputs": []
    },
    {
      "cell_type": "code",
      "metadata": {
        "id": "MIpzdimcDCa0"
      },
      "source": [
        "from keras import backend as K \n",
        "import gensim\n",
        "from numpy import *\n",
        "import numpy as np\n",
        "import pandas as pd \n",
        "import re\n",
        "from bs4 import BeautifulSoup\n",
        "from keras.preprocessing.text import Tokenizer \n",
        "from keras.preprocessing.sequence import pad_sequences\n",
        "from nltk.corpus import stopwords\n",
        "from tensorflow.keras.layers import Input, LSTM, Embedding, Dense, Concatenate, TimeDistributed\n",
        "from tensorflow.keras.models import Model\n",
        "from tensorflow.keras.callbacks import EarlyStopping\n",
        "import warnings\n",
        "pd.set_option(\"display.max_colwidth\", 200)\n",
        "warnings.filterwarnings(\"ignore\")"
      ],
      "execution_count": null,
      "outputs": []
    },
    {
      "cell_type": "code",
      "metadata": {
        "colab": {
          "base_uri": "https://localhost:8080/"
        },
        "id": "-EM-jNDfGUuh",
        "outputId": "cc983cd2-43d8-44eb-91a9-c4dd8f893da5"
      },
      "source": [
        "print(\"Size of vocabulary from the w2v model = {}\".format(x_voc))\n",
        "\n",
        "K.clear_session()\n",
        "\n",
        "latent_dim = 300\n",
        "embedding_dim=200\n",
        "\n",
        "# Encoder\n",
        "encoder_inputs = Input(shape=(max_text_len,))\n",
        "\n",
        "#embedding layer\n",
        "enc_emb =  Embedding(x_voc, embedding_dim,trainable=True)(encoder_inputs)\n",
        "\n",
        "#encoder lstm 1\n",
        "encoder_lstm1 = LSTM(latent_dim,return_sequences=True,return_state=True,dropout=0.4,recurrent_dropout=0.4)\n",
        "encoder_output1, state_h1, state_c1 = encoder_lstm1(enc_emb)\n",
        "\n",
        "#encoder lstm 2\n",
        "encoder_lstm2 = LSTM(latent_dim,return_sequences=True,return_state=True,dropout=0.4,recurrent_dropout=0.4)\n",
        "encoder_output2, state_h2, state_c2 = encoder_lstm2(encoder_output1)\n",
        "\n",
        "#encoder lstm 3\n",
        "encoder_lstm3=LSTM(latent_dim, return_state=True, return_sequences=True,dropout=0.4,recurrent_dropout=0.4)\n",
        "encoder_outputs, state_h, state_c= encoder_lstm3(encoder_output2)\n",
        "\n",
        "# Set up the decoder, using `encoder_states` as initial state.\n",
        "decoder_inputs = Input(shape=(None,))\n",
        "\n",
        "#embedding layer\n",
        "dec_emb_layer = Embedding(y_voc, embedding_dim,trainable=True)\n",
        "dec_emb = dec_emb_layer(decoder_inputs)\n",
        "\n",
        "decoder_lstm = LSTM(latent_dim, return_sequences=True, return_state=True,dropout=0.4,recurrent_dropout=0.2)\n",
        "decoder_outputs,decoder_fwd_state, decoder_back_state = decoder_lstm(dec_emb,initial_state=[state_h, state_c])\n",
        "\n",
        "#dense layer\n",
        "decoder_dense =  TimeDistributed(Dense(y_voc, activation='softmax'))\n",
        "decoder_outputs = decoder_dense(decoder_outputs)\n",
        "\n",
        "# Define the model \n",
        "model = Model([encoder_inputs, decoder_inputs], decoder_outputs)\n",
        "\n",
        "model.summary()\n",
        "\n"
      ],
      "execution_count": null,
      "outputs": [
        {
          "output_type": "stream",
          "name": "stdout",
          "text": [
            "Size of vocabulary from the w2v model = 9702\n",
            "WARNING:tensorflow:Layer lstm will not use cuDNN kernels since it doesn't meet the criteria. It will use a generic GPU kernel as fallback when running on GPU.\n",
            "WARNING:tensorflow:Layer lstm_1 will not use cuDNN kernels since it doesn't meet the criteria. It will use a generic GPU kernel as fallback when running on GPU.\n",
            "WARNING:tensorflow:Layer lstm_2 will not use cuDNN kernels since it doesn't meet the criteria. It will use a generic GPU kernel as fallback when running on GPU.\n",
            "WARNING:tensorflow:Layer lstm_3 will not use cuDNN kernels since it doesn't meet the criteria. It will use a generic GPU kernel as fallback when running on GPU.\n",
            "Model: \"model\"\n",
            "__________________________________________________________________________________________________\n",
            " Layer (type)                   Output Shape         Param #     Connected to                     \n",
            "==================================================================================================\n",
            " input_1 (InputLayer)           [(None, 100)]        0           []                               \n",
            "                                                                                                  \n",
            " embedding (Embedding)          (None, 100, 200)     1940400     ['input_1[0][0]']                \n",
            "                                                                                                  \n",
            " lstm (LSTM)                    [(None, 100, 300),   601200      ['embedding[0][0]']              \n",
            "                                 (None, 300),                                                     \n",
            "                                 (None, 300)]                                                     \n",
            "                                                                                                  \n",
            " input_2 (InputLayer)           [(None, None)]       0           []                               \n",
            "                                                                                                  \n",
            " lstm_1 (LSTM)                  [(None, 100, 300),   721200      ['lstm[0][0]']                   \n",
            "                                 (None, 300),                                                     \n",
            "                                 (None, 300)]                                                     \n",
            "                                                                                                  \n",
            " embedding_1 (Embedding)        (None, None, 200)    498400      ['input_2[0][0]']                \n",
            "                                                                                                  \n",
            " lstm_2 (LSTM)                  [(None, 100, 300),   721200      ['lstm_1[0][0]']                 \n",
            "                                 (None, 300),                                                     \n",
            "                                 (None, 300)]                                                     \n",
            "                                                                                                  \n",
            " lstm_3 (LSTM)                  [(None, None, 300),  601200      ['embedding_1[0][0]',            \n",
            "                                 (None, 300),                     'lstm_2[0][1]',                 \n",
            "                                 (None, 300)]                     'lstm_2[0][2]']                 \n",
            "                                                                                                  \n",
            " time_distributed (TimeDistribu  (None, None, 2492)  750092      ['lstm_3[0][0]']                 \n",
            " ted)                                                                                             \n",
            "                                                                                                  \n",
            "==================================================================================================\n",
            "Total params: 5,833,692\n",
            "Trainable params: 5,833,692\n",
            "Non-trainable params: 0\n",
            "__________________________________________________________________________________________________\n"
          ]
        }
      ]
    },
    {
      "cell_type": "code",
      "metadata": {
        "id": "ihm6AIy2Jb3q"
      },
      "source": [
        "model.compile(optimizer='rmsprop', loss='sparse_categorical_crossentropy')"
      ],
      "execution_count": null,
      "outputs": []
    },
    {
      "cell_type": "code",
      "metadata": {
        "id": "E6bpZ11dJb_v"
      },
      "source": [
        "es = EarlyStopping(monitor='val_loss', mode='min', verbose=1,patience=2)"
      ],
      "execution_count": null,
      "outputs": []
    },
    {
      "cell_type": "code",
      "metadata": {
        "colab": {
          "base_uri": "https://localhost:8080/"
        },
        "id": "jrhoOQj2L3my",
        "outputId": "cf82cc6a-f0b0-42b6-8e29-ecad5b577d76"
      },
      "source": [
        "[x_tr,y_tr[:,:-1]]"
      ],
      "execution_count": null,
      "outputs": [
        {
          "output_type": "execute_result",
          "data": {
            "text/plain": [
              "[array([[   3,  159,   12, ...,    0,    0,    0],\n",
              "        [ 650,   11,  697, ...,    0,    0,    0],\n",
              "        [2743, 1586, 5963, ...,    0,    0,    0],\n",
              "        ...,\n",
              "        [ 432, 4217,    4, ...,    0,    0,    0],\n",
              "        [   1, 6885, 2835, ...,    0,    0,    0],\n",
              "        [   1, 2868,    4, ...,    0,    0,    0]], dtype=int32),\n",
              " array([[   3,    2,   43, ...,    1,    4,    0],\n",
              "        [   3,    2, 1726, ..., 1377,    1,    4],\n",
              "        [   3,    2,  869, ...,    4,    0,    0],\n",
              "        ...,\n",
              "        [   3,    2,  164, ..., 2147,    1,    4],\n",
              "        [   3,    2,  460, ...,    4,    0,    0],\n",
              "        [   3,    2,   35, ...,    4,    0,    0]], dtype=int32)]"
            ]
          },
          "metadata": {},
          "execution_count": 45
        }
      ]
    },
    {
      "cell_type": "code",
      "metadata": {
        "colab": {
          "base_uri": "https://localhost:8080/"
        },
        "id": "CPDnX1g-Jfjp",
        "outputId": "ab7e43b5-4cfb-4b2a-9d7b-ba3f55610024"
      },
      "source": [
        "history=model.fit([x_tr,y_tr[:,:-1]], y_tr.reshape(y_tr.shape[0],y_tr.shape[1], 1)[:,1:] ,epochs=25,callbacks=[es],batch_size=128, validation_data=([x_val,y_val[:,:-1]], y_val.reshape(y_val.shape[0],y_val.shape[1], 1)[:,1:]))"
      ],
      "execution_count": null,
      "outputs": [
        {
          "output_type": "stream",
          "name": "stdout",
          "text": [
            "Epoch 1/25\n",
            "64/64 [==============================] - 139s 2s/step - loss: 4.7014 - val_loss: 4.0135\n",
            "Epoch 2/25\n",
            "64/64 [==============================] - 124s 2s/step - loss: 4.0605 - val_loss: 3.8643\n",
            "Epoch 3/25\n",
            "64/64 [==============================] - 124s 2s/step - loss: 3.9639 - val_loss: 3.8181\n",
            "Epoch 4/25\n",
            "64/64 [==============================] - 122s 2s/step - loss: 3.9147 - val_loss: 3.7825\n",
            "Epoch 5/25\n",
            "64/64 [==============================] - 126s 2s/step - loss: 3.8521 - val_loss: 3.7551\n",
            "Epoch 6/25\n",
            "64/64 [==============================] - 124s 2s/step - loss: 3.8054 - val_loss: 3.7283\n",
            "Epoch 7/25\n",
            "64/64 [==============================] - 124s 2s/step - loss: 3.7579 - val_loss: 3.7027\n",
            "Epoch 8/25\n",
            "64/64 [==============================] - 125s 2s/step - loss: 3.7311 - val_loss: 3.6829\n",
            "Epoch 9/25\n",
            "64/64 [==============================] - 125s 2s/step - loss: 3.6662 - val_loss: 3.6580\n",
            "Epoch 10/25\n",
            "64/64 [==============================] - 125s 2s/step - loss: 3.6216 - val_loss: 3.6355\n",
            "Epoch 11/25\n",
            "64/64 [==============================] - 124s 2s/step - loss: 3.5763 - val_loss: 3.6181\n",
            "Epoch 12/25\n",
            "64/64 [==============================] - 125s 2s/step - loss: 3.5516 - val_loss: 3.6030\n",
            "Epoch 13/25\n",
            "64/64 [==============================] - 123s 2s/step - loss: 3.4875 - val_loss: 3.5909\n",
            "Epoch 14/25\n",
            "64/64 [==============================] - 122s 2s/step - loss: 3.4451 - val_loss: 3.5720\n",
            "Epoch 15/25\n",
            "64/64 [==============================] - 121s 2s/step - loss: 3.4011 - val_loss: 3.5672\n",
            "Epoch 16/25\n",
            "64/64 [==============================] - 122s 2s/step - loss: 3.3583 - val_loss: 3.5502\n",
            "Epoch 17/25\n",
            "64/64 [==============================] - 120s 2s/step - loss: 3.3123 - val_loss: 3.5286\n",
            "Epoch 18/25\n",
            "64/64 [==============================] - 122s 2s/step - loss: 3.2647 - val_loss: 3.5172\n",
            "Epoch 19/25\n",
            "64/64 [==============================] - 122s 2s/step - loss: 3.2171 - val_loss: 3.5038\n",
            "Epoch 20/25\n",
            "64/64 [==============================] - 121s 2s/step - loss: 3.1662 - val_loss: 3.4807\n",
            "Epoch 21/25\n",
            "64/64 [==============================] - 121s 2s/step - loss: 3.1184 - val_loss: 3.4693\n",
            "Epoch 22/25\n",
            "64/64 [==============================] - 120s 2s/step - loss: 3.0725 - val_loss: 3.4617\n",
            "Epoch 23/25\n",
            "64/64 [==============================] - 120s 2s/step - loss: 3.0276 - val_loss: 3.4541\n",
            "Epoch 24/25\n",
            "64/64 [==============================] - 121s 2s/step - loss: 2.9872 - val_loss: 3.4513\n",
            "Epoch 25/25\n",
            "64/64 [==============================] - 118s 2s/step - loss: 2.9476 - val_loss: 3.4423\n"
          ]
        }
      ]
    },
    {
      "cell_type": "code",
      "metadata": {
        "id": "gIZhfw7UH95b"
      },
      "source": [
        "# Encode the input sequence to get the feature vector\n",
        "encoder_model = Model(inputs=encoder_inputs,outputs=[encoder_outputs, state_h, state_c])\n",
        "\n",
        "# Decoder setup\n",
        "# Below tensors will hold the states of the previous time step\n",
        "decoder_state_input_h = Input(shape=(latent_dim,))\n",
        "decoder_state_input_c = Input(shape=(latent_dim,))\n",
        "decoder_hidden_state_input = Input(shape=(max_text_len,latent_dim))\n",
        "\n",
        "# Get the embeddings of the decoder sequence\n",
        "dec_emb2= dec_emb_layer(decoder_inputs) \n",
        "# To predict the next word in the sequence, set the initial states to the states from the previous time step\n",
        "decoder_outputs2, state_h2, state_c2 = decoder_lstm(dec_emb2, initial_state=[decoder_state_input_h, decoder_state_input_c])\n",
        "\n",
        "# A dense softmax layer to generate prob dist. over the target vocabulary\n",
        "decoder_outputs2 = decoder_dense(decoder_outputs2) \n",
        "\n",
        "# Final decoder model\n",
        "decoder_model = Model(\n",
        "    [decoder_inputs] + [decoder_hidden_state_input,decoder_state_input_h, decoder_state_input_c],\n",
        "    [decoder_outputs2] + [state_h2, state_c2])"
      ],
      "execution_count": null,
      "outputs": []
    },
    {
      "cell_type": "code",
      "source": [
        "reverse_target_word_index=y_tokenizer.index_word\n",
        "reverse_source_word_index=x_tokenizer.index_word\n",
        "target_word_index=y_tokenizer.word_index"
      ],
      "metadata": {
        "id": "QFjXR-t85mFp"
      },
      "execution_count": null,
      "outputs": []
    },
    {
      "cell_type": "code",
      "metadata": {
        "id": "xiIP2cFgH-bH"
      },
      "source": [
        "def decode_sequence(input_seq):\n",
        "    # Encode the input as state vectors.\n",
        "    e_out, e_h, e_c = encoder_model.predict(input_seq)\n",
        "    \n",
        "    # Generate empty target sequence of length 1.\n",
        "    target_seq = np.zeros((1,1))\n",
        "    \n",
        "    # Populate the first word of target sequence with the start word.\n",
        "    target_seq[0, 0] = target_word_index['sostok']\n",
        "\n",
        "    stop_condition = False\n",
        "    decoded_sentence = ''\n",
        "    while not stop_condition:\n",
        "      \n",
        "        output_tokens, h, c = decoder_model.predict([target_seq] + [e_out, e_h, e_c])\n",
        "\n",
        "        # Sample a token\n",
        "        sampled_token_index = np.argmax(output_tokens[0, -1, :])\n",
        "        sampled_token = reverse_target_word_index[sampled_token_index]\n",
        "        \n",
        "        if(sampled_token!='eostok'):\n",
        "            decoded_sentence += ' '+sampled_token\n",
        "\n",
        "        # Exit condition: either hit max length or find stop word.\n",
        "        if (sampled_token == 'eostok'  or len(decoded_sentence.split()) >= (max_summary_len-1)):\n",
        "            stop_condition = True\n",
        "\n",
        "        # Update the target sequence (of length 1).\n",
        "        target_seq = np.zeros((1,1))\n",
        "        target_seq[0, 0] = sampled_token_index\n",
        "\n",
        "        # Update internal states\n",
        "        e_h, e_c = h, c\n",
        "\n",
        "    return decoded_sentence"
      ],
      "execution_count": null,
      "outputs": []
    },
    {
      "cell_type": "code",
      "metadata": {
        "id": "7l_l6b99IAZF"
      },
      "source": [
        "def seq2summary(input_seq):\n",
        "    newString=''\n",
        "    for i in input_seq:\n",
        "        if((i!=0 and i!=target_word_index['sostok']) and i!=target_word_index['eostok']):\n",
        "            newString=newString+reverse_target_word_index[i]+' '\n",
        "    return newString\n",
        "\n",
        "def seq2text(input_seq):\n",
        "    newString=''\n",
        "    for i in input_seq:\n",
        "        if(i!=0):\n",
        "            newString=newString+reverse_source_word_index[i]+' '\n",
        "    return newString"
      ],
      "execution_count": null,
      "outputs": []
    },
    {
      "cell_type": "code",
      "metadata": {
        "id": "C06JNDk8IDed",
        "colab": {
          "base_uri": "https://localhost:8080/"
        },
        "outputId": "69c693e9-3d01-4db5-b93b-9b5ff4c260e2"
      },
      "source": [
        "for i in range(0,100):\n",
        "    print(\"Review:\",seq2text(x_tr[i]))\n",
        "    print(\"Original summary:\",seq2summary(y_tr[i]))\n",
        "    print(\"Predicted summary:\",decode_sequence(x_tr[i].reshape(1,max_text_len)))\n",
        "    print(\"\\n\")"
      ],
      "execution_count": null,
      "outputs": [
        {
          "output_type": "stream",
          "name": "stdout",
          "text": [
            "Review: in video that has gone viral former karnataka cm siddaramaiah was seen losing his cool and snatching woman complainant mic at public meeting in mysuru snatching the mic resulted in her being pulled off the national commission for women chief rekha sharma said she ll raise the matter with karnataka dgp to file an fir against siddaramaiah \n",
            "Original summary: start ex karnataka cm woman at public meeting video viral end \n",
            "Predicted summary:  start i am the of the accidental end\n",
            "\n",
            "\n",
            "Review: claiming he cannot understand criticism by those who criticise the maximum finance minister arun jaitley on friday said well your speech canã¢âât be in danger if you are criticising seven days week jaitley who was speaking at national press day celebrations also said it is to say another emergency is being imposed but technology doesn permit press censorship \n",
            "Original summary: start speech not in if you all days jaitley to press end \n",
            "Predicted summary:  start man who killed in encounter in delhi end\n",
            "\n",
            "\n",
            "Review: cristiano ronaldo converted penalty to seal 2 1 win for juventus against in on sunday to pull 11 points clear in the serie ronaldo whose penalty was saved last week against scored in his eighth consecutive away match to bring his league tally to 15 goals ronaldo is currently the league second highest \n",
            "Original summary: start ronaldo penalty to help juventus beat 2 1 end \n",
            "Predicted summary:  start i don want to be on the day end\n",
            "\n",
            "\n",
            "Review: a group of leading scientists has declared that the world isn ready for gene edited babies following claims from chinese researcher that he created genetically modified babies they said it was irresponsible to alter the genes of eggs or embryos due to the risks involved the researcher claimed that he modified the dna of twins to make them hiv resistant \n",
            "Original summary: start the world isn ready for gene edited babies scientists end \n",
            "Predicted summary:  start i don want to do my kohli end\n",
            "\n",
            "\n",
            "Review: madhya pradesh cm kamal nath has revoked suspension of the of school who called him ve always freedom of expression the action against him might be correct according to rules but personally him nath said should decide for himself whether he used right words for elected cm he added \n",
            "Original summary: start i him mp cm on who called him end \n",
            "Predicted summary:  start pm modi inaugurates in end\n",
            "\n",
            "\n",
            "Review: team india batsman cheteshwar pujara smashed his 17th test hundred and the second in the ongoing four match series during the third test at melbourne on thursday this is the second time in his career that pujara has hit multiple hundreds in an away test series during his innings the 30 year old also reached 000 away runs in test cricket \n",
            "Original summary: start pujara smashes hundreds in an away test series for the 2nd time end \n",
            "Predicted summary:  start i was the my captain on her end\n",
            "\n",
            "\n",
            "Review: vijay mallya has said he had left india in 2016 with only five pieces of luggage and not 300 bags as claimed by the enforcement directorate in an affidavit to mumbai court on monday he claimed to have left india to raise funds for making one time settlement with indian banks which had granted loans to now kingfisher airlines \n",
            "Original summary: start left india with bags not 300 for one time mallya end \n",
            "Predicted summary:  start man who killed in encounter in delhi end\n",
            "\n",
            "\n",
            "Review: lucknow mayor bhatia has said that places addressed as ki and will be renamed after she added it is wrong earlier such names were in use but now our prime minister narendra modi has given us the word for the differently abled people \n",
            "Original summary: start lucknow ki to be renamed end \n",
            "Predicted summary:  start man who killed in encounter in end\n",
            "\n",
            "\n",
            "Review: mukesh sharma passenger who suffered ear bleeding during cabin pressure loss on jet airways flight on september 20 has been diagnosed with permanent hearing loss there were number of soft sounds wasn able to detect not able to listen unless person is standing face to face said sharma who left his research job in portugal after the incident \n",
            "Original summary: start man suffers permanent hearing loss after on flight end \n",
            "Predicted summary:  start i am the of the accidental end\n",
            "\n",
            "\n",
            "Review: police in canada can now demand breath samples from people in bars at home or anywhere else under revised law aimed at curbing drunk driving the new rules make it criminal offence to be over the legal blood alcohol level within two hours of driving refusing test may lead to fine licence suspension and jail among others \n",
            "Original summary: start canada police can now demand in bars at home end \n",
            "Predicted summary:  start man who killed in encounter in delhi end\n",
            "\n",
            "\n",
            "Review: the updated list of editors guild of india includes names of former editor tarun tejpal and former union minister and editor mj akbar both of whom have been accused of sexual misconduct by their women colleagues while akbar was accused of sexual harassment during the metoo movement tejpal was charged with rape and is currently out on bail \n",
            "Original summary: start part of of india member list end \n",
            "Predicted summary:  start i don want to be on the day end\n",
            "\n",
            "\n",
            "Review: while praising her co actor nawazuddin siddiqui sanya malhotra said when he used to come on the set he would leave his back at home it was huge thing for me to work with nawaz sir because he is my favourite actor added sanya who will be seen with nawazuddin in their upcoming film photograph \n",
            "Original summary: start nawazuddin never his to the set sanya end \n",
            "Predicted summary:  start i don want to do my kohli end\n",
            "\n",
            "\n",
            "Review: egyptian authorities on saturday unveiled well preserved of woman inside previously in in southern egypt dating back to more than 000 years the was one of two found earlier this month by french led mission the unveiling was the first time authorities had opened previously before international media \n",
            "Original summary: start woman dating back 000 years unveiled in egypt end \n",
            "Predicted summary:  start us to be in us end\n",
            "\n",
            "\n",
            "Review: a video shows 40 year old letting 5 metre long python itself around his head during safety demonstration in thailand was explaining to children what they can do if snake itself around them when the snake wants to eat the people they ll lock them in quickly his colleague can be heard saying \n",
            "Original summary: start man 5 long around him for safety end \n",
            "Predicted summary:  start i am the of the accidental end\n",
            "\n",
            "\n",
            "Review: the sri lankan lawmakers engaged in fight in the parliament on thursday over the ongoing argument regarding disputed pm mahinda rajapaksa with one them throwing at speaker earlier on wednesday the chamber passed no confidence vote against rajapaksa government rajapaksa claimed the speaker had no authority to remove him from office by voice vote \n",
            "Original summary: start sri fight in parliament thrown at speaker end \n",
            "Predicted summary:  start man kills in delhi for end\n",
            "\n",
            "\n",
            "Review: pakistan former captain shahid afridi has said that indian captain virat kohli is one of his favourite cricketers but needs to improve as captain india australia series is going to be very exciting contest and this indian team has what it takes to beat australia in australia afridi said about india ongoing tour of australia \n",
            "Original summary: start kohli of my but needs to as captain afridi end \n",
            "Predicted summary:  start i don want to do my kohli end\n",
            "\n",
            "\n",
            "Review: a day after tim paine teased india wicketkeeper rishabh pant in the melbourne test over his exclusion from odi squad pant taunted the australia wicketkeeper captain by calling him temporary captain have you ever heard of temporary captain we don need to do anything to get him out pant said only thing he can do is talking talking he added \n",
            "Original summary: start have you ever of captain pant tim paine end \n",
            "Predicted summary:  start i don want to do my kohli on the universe end\n",
            "\n",
            "\n",
            "Review: mit scientists have developed new system for 3d printing transparent glass on an industrial scale the system consists of two parts including closed heated box which holds glass and another controlled box where it the object the scientists were able to convert glass into 3 metre tall using the system \n",
            "Original summary: start mit scientists develop new 3d system for end \n",
            "Predicted summary:  start i don want to be on the day end\n",
            "\n",
            "\n",
            "Review: an by late rapper was sold at an auction for 21 75 over ã¢ââ¹15 lakh as per reports the was reportedly part of love letter to his then girlfriend which he sent while serving prison sentence for sexual abuse in 1995 the was bought by man in his reports said \n",
            "Original summary: start by late rapper sold for 21 000 report end \n",
            "Predicted summary:  start india to be in india end\n",
            "\n",
            "\n",
            "Review: us missionary john allen chau had stripped down to his in an attempt to with the sentinelese tribe in andaman as per the fishermen who allegedly his trip they added chau believed he would gain the trust of the sentinelese by dressing like them he wanted to stay there for several months the fishermen said \n",
            "Original summary: start us to to with andaman end \n",
            "Predicted summary:  start us to be in us end\n",
            "\n",
            "\n",
            "Review: assam rifles have arrested one alleged reportedly carrying 44 000 party drugs popularly known as world is tablets and of brown sugar worth ã¢ââ¹5 78 crore in manipur the tablets were contained in weighing 15 kg the assam rifles south pro said the seized narcotics and the suspect were handed over to \n",
            "Original summary: start worth ã¢ââ¹5 crore seized in manipur by assam end \n",
            "Predicted summary:  start us man arrested for raping minor in us end\n",
            "\n",
            "\n",
            "Review: at white house event on the trade act us president donald trump said that he got india to cut tariffs on motorcycles from 100 to 50 just by talking for about two minutes he however pointed out india duties on american saying india has very high tariff you look at india gets 150 we get nothing \n",
            "Original summary: start got india to cut on by half in minutes trump end \n",
            "Predicted summary:  start us to be in us end\n",
            "\n",
            "\n",
            "Review: hours after telangana congress working president reddy was taken into preventive custody congress leader reddy said he is not an man but instead missile that is going to finish the telangana rashtra samithi reddy was detained after he reportedly called for shutdown in to protest alleged police raids on his associates \n",
            "Original summary: start our missile says congress after his arrest end \n",
            "Predicted summary:  start pm modi inaugurates in end\n",
            "\n",
            "\n",
            "Review: india drugs regulator has ordered johnson johnson to stop manufacturing baby powder using raw materials from two of its indian factories till further directions drug collected samples of baby powder from plant in mumbai and unit in himachal pradesh on wednesday this comes amid reports that the product allegedly contained cancer causing asbestos \n",
            "Original summary: start india orders to stop using to make baby powder end \n",
            "Predicted summary:  start us man arrested for raping minor in us end\n",
            "\n",
            "\n",
            "Review: economist has said he resigned as part time member of the economic advisory council to the prime minister on december the economic advisory council was by prime minister narendra modi in september 2017 in bid to bring in reforms to the financial system this comes day after urjit patel resigned as rbi governor \n",
            "Original summary: start resigns from pm economic council end \n",
            "Predicted summary:  start pm modi inaugurates in end\n",
            "\n",
            "\n",
            "Review: on the occasion of her film maine kiya completing 29 years of its release on saturday tweeted picture with salman khan and wrote 29 years flown by and love still makes the world go round who made her bollywood debut with sooraj film had won award for debut female \n",
            "Original summary: start 29 years by on end \n",
            "Predicted summary:  start i was the my was on the accidental end\n",
            "\n",
            "\n",
            "Review: the brexit deal rejected by the british parliament includes both the withdrawal agreement on the terms on which britain leaves the european union eu and political for the future relationship the withdrawal agreement covers issues including citizens rights the irish border and the brexit divorce bill trade and security are the two main components of the political \n",
            "Original summary: start what is the brexit deal rejected by the british parliament end \n",
            "Predicted summary:  start man who killed in encounter in delhi end\n",
            "\n",
            "\n",
            "Review: pakistani pacer has claimed that pakistan will make plans to tackle indian captain virat kohli in the world cup 2019 praising kohli added the indian team has very good batsmen and virat kohli is no doubt one of the best going around right now last played an odi for pakistan in the 2017 champions trophy \n",
            "Original summary: start pak will make plans to kohli in wc 2019 pak pacer end \n",
            "Predicted summary:  start i don want to do my kohli end\n",
            "\n",
            "\n",
            "Review: a four month old girl died after she was allegedly thrown by drunk neighbour in uttar pradesh bareilly on sunday the incident reportedly happened after the infant mother got into an argument with her neighbour following which drunk husband threw the infant on the ground the infant was taken to nearby hospital where she was declared brought dead \n",
            "Original summary: 4 month old girl dies after being thrown by drunk neighbour in up end \n",
            "Predicted summary:  start man who killed in encounter in delhi end\n",
            "\n",
            "\n",
            "Review: australia sports minister while introducing virat kohli during the new year day celebrations at australia pm scott morrison official residence said have got total cricket crush on this guy the passion that he on the pitch and on the field is just so exciting to watch even though hope you lose this week she added \n",
            "Original summary: start i have got total cricket on kohli australia sports minister end \n",
            "Predicted summary:  start i don want to do my kohli on the universe end\n",
            "\n",
            "\n",
            "Review: france based on tuesday successfully launched gsat 11 the heaviest satellite built by isro from its port in french weighing kg the gsat 11 will boost speeds and provide the capacity to meet growing demands for internet connectivity said isro the satellite with mission life of 15 years will be placed in orbit \n",
            "Original summary: start isro satellite launched will internet speed end \n",
            "Predicted summary:  start i don want to be on the day end\n",
            "\n",
            "\n",
            "Review: uk prime minister theresa may on wednesday won the no confidence vote triggered by members of her own conservative party by 200 to 117 as many as 48 mps from the conservative party had triggered the no confidence vote in protest against may brexit plan following the vote may said she would deliver the brexit people voted for \n",
            "Original summary: start uk pm may wins no confidence vote end \n",
            "Predicted summary:  start pm modi inaugurates in end\n",
            "\n",
            "\n",
            "Review: actor prakash raj on saturday confirmed he would be contesting in the 2019 lok sabha elections from karnataka bengaluru central constituency as an independent candidate thank you for the warm and encouraging response to my new journey prakash wrote in tweet the actor had announced his entry into electoral politics on january 1 \n",
            "Original summary: start actor prakash raj to contest 2019 polls from bengaluru end \n",
            "Predicted summary:  start india to be in 2019 end\n",
            "\n",
            "\n",
            "Review: on being called fat lady by on wednesday the duchess of sussex meghan markle said ll take it the elderly woman made the comment meant as compliment about markle growing baby as the 37 year old visited an animal welfare charity in london markle revealed earlier this week that she is six months pregnant \n",
            "Original summary: start i ll take it after being called lady end \n",
            "Predicted summary:  start i was the my was on the accidental end\n",
            "\n",
            "\n",
            "Review: during debate on the rafale deal in parliament congress president rahul gandhi said jab yeh laga mein kuch hai do chala puri hi hai demanding joint parliamentary committee probe rahul claimed pm narendra modi had bypassed the entire procedure and taken away employment from hal workers \n",
            "Original summary: start hai says rahul on rafale deal end \n",
            "Predicted summary:  start pm modi inaugurates in end\n",
            "\n",
            "\n",
            "Review: reacting to hardik pandya and kl rahul comments on women in koffee with karan india captain virat kohli said the indian cricket team doesn with those views and those are purely individual views he added rahul and pandya have understood the of what has happened and it has been to them that their comments are not acceptable \n",
            "Original summary: start rahul pandya have of what kohli end \n",
            "Predicted summary:  start i don want to do my kohli on the universe end\n",
            "\n",
            "\n",
            "Review: a gunman killed all five people on wednesday inside bank in florida us police said police responded to the bank shooting after the 21 year old himself called police and said that he had shot five people the suspected shooter surrendered himself after initially himself inside the bank \n",
            "Original summary: start 5 killed as opens fire in bank shooting end \n",
            "Predicted summary:  start man who killed in encounter in delhi end\n",
            "\n",
            "\n",
            "Review: a 53 year old priest in temple in tamil nadu died after he slipped and fell down from an 11 foot high platform after 18 foot high lord statue officials said the priest was critically injured and was hospitalised on sunday but he succumbed to his injuries on tuesday an official claimed such an incident has not happened in the temple history \n",
            "Original summary: start priest falls after 18 foot lord dies end \n",
            "Predicted summary:  start man who killed in encounter in delhi end\n",
            "\n",
            "\n",
            "Review: a man on monday tried to commit suicide by slitting his throat in court after he was convicted and sentenced to 14 years in jail in smuggling case in 2016 the man and seven others were caught with over kg of he was out on bail and might have been expecting conviction police said \n",
            "Original summary: start man given 14 yr jail in case attempts suicide in court end \n",
            "Predicted summary:  start man who killed in encounter in delhi end\n",
            "\n",
            "\n",
            "Review: david the head of global firm on monday admitted that it had fired 20 senior staff over the last four years for bad behaviour including and harassment he revealed that some executives thought it acceptable to younger colleagues in bars we will fire people for any inappropriate behaviour no one is protected added \n",
            "Original summary: start admits it fired 20 senior partners over sexual harassment end \n",
            "Predicted summary:  start i don want to be on the day end\n",
            "\n",
            "\n",
            "Review: iran bid to launch satellite has failed after the us warned against it the us had warned iran against three planned rocket launches saying they are in violation of united nations security council resolution because they use ballistic missile technology the us believes the same technology could be used to develop long range missiles capable of carrying nuclear weapons \n",
            "Original summary: start iran satellite launch attempt fails after us warns against it end \n",
            "Predicted summary:  start us to be in us end\n",
            "\n",
            "\n",
            "Review: police on thursday said that five year old girl was allegedly raped by 12 year old boy in uttar pradesh district the girl was playing outside her residence when the accused allegedly lured her to his house and raped her police said the girl has been sent for medical examination and investigation is underway it added \n",
            "Original summary: start 12 year old boy rapes 5 year old girl in uttar pradesh end \n",
            "Predicted summary:  start man kills in delhi for end\n",
            "\n",
            "\n",
            "Review: us billionaire the founder of 28 billion hedge fund has purchased gardens 200 year old home near palace in central london the 50 year old who has an estimated 8 8 billion fortune paid about million crore for the property the 20 000 square foot house is opposite the uk foreign secretary official residence \n",
            "Original summary: start us billionaire buys crore london house near end \n",
            "Predicted summary:  start us to be in us end\n",
            "\n",
            "\n",
            "Review: saudi women have launched protest against the full body by posting pictures on social media wearing the dress inside out the women have been posting the pictures along with the hashtag inside out in rare protest against the dress code in march crown prince mohammed bin salman said wearing the was not mandatory in islam \n",
            "Original summary: start saudi women wear inside out in protest end \n",
            "Predicted summary:  start us to be in us end\n",
            "\n",
            "\n",
            "Review: ayushmann khurrana has said that if there is need to go for film he will go for it he added physical is for any character that you play on screen on my part there will be no ayushmann will be seen as guy in his upcoming film bala with bhumi pednekar \n",
            "Original summary: start if there is need to go for film will ayushmann end \n",
            "Predicted summary:  start i don want to be on the day end\n",
            "\n",
            "\n",
            "Review: at least two army personnel were reportedly killed and two others were injured in blast near the line of control in jammu and kashmir sector on saturday the blast reportedly took place when the army men were the area an army official said that it was an accidental blast and further investigation is going on \n",
            "Original summary: start 2 soldiers killed injured in mine blast in k end \n",
            "Predicted summary:  start man kills in delhi for end\n",
            "\n",
            "\n",
            "Review: an independent candidate from telangana constituency is distributing slippers to voters and saying if don work after winning you can hit me with the his campaign video has gone viral with people asking other politicians to follow the suit seat is represented by telangana rashtra samithi senior leader and mla rao \n",
            "Original summary: start hit me if don work gana candidate gives to voters end \n",
            "Predicted summary:  start us man arrested for raping minor in us end\n",
            "\n",
            "\n",
            "Review: world largest cryptocurrency bitcoin as much as 10 to fall below 4 300 on tuesday to its lowest level in 13 months bitcoin has more than 75 from peak of nearly 20 000 touched in december 2017 have now lost almost 700 billion of market value since record billion in january according to com \n",
            "Original summary: start price crashes below 4 300 to this year end \n",
            "Predicted summary:  start i am the of the accidental end\n",
            "\n",
            "\n",
            "Review: the us coast guard has suggested its employees to consider and dog walking among other things to survive the partial government shutdown around 400 of the coast guard civilian workforce are on indefinite while 100 are working without pay the us government is partially shut down over president donald trump demand for funds to build the us mexico border wall \n",
            "Original summary: start try to govt shutdown us guard to staff end \n",
            "Predicted summary:  start us man arrested for raping minor in delhi end\n",
            "\n",
            "\n",
            "Review: bengaluru based dairy and poultry products delivery startup is reportedly raising around ã¢ââ¹85 crore in series round of funding talks are at fairly advanced stage looking at post money valuation of 40 million co founder said adding that the round will be closed by january 2019 existing investor will also participate in the round said \n",
            "Original summary: start bengaluru startup to raise crore report end \n",
            "Predicted summary:  start i don want to do my kohli on the universe end\n",
            "\n",
            "\n",
            "Review: uttar pradesh director general of police op singh on wednesday called the incident in bulandshahr big conspiracy he said this was not only law and order issue and we are looking at all angles including the selection of place for cow slaughter and the timing of the incident two people including bulandshahr sho were killed in the violence \n",
            "Original summary: start bulandshahr violence big up dgp singh end \n",
            "Predicted summary:  start pm modi inaugurates in end\n",
            "\n",
            "\n",
            "Review: talking about the performance of his latest film kedarnath sushant singh rajput said am really happy with the audience response to the film the kind of minute we have shown in the film they are getting connected to it and it he added sushant further said when an actor work gets appreciated he gets \n",
            "Original summary: start i happy with the to kedarnath sushant end \n",
            "Predicted summary:  start i don want to be on the day end\n",
            "\n",
            "\n",
            "Review: neha dhupia has said her husband actor angad bedi revealed everything meant to be hidden when he came on her as wife wanted to hide everything as producer thought it was the right thing to put it out there she added angad revealed neha parents reaction when he told them about her pregnancy before their marriage \n",
            "Original summary: start angad everything to be on my show neha end \n",
            "Predicted summary:  start i don want to do my kohli on the universe end\n",
            "\n",
            "\n",
            "Review: after smashing two sixes in the second odi against australia in adelaide on tuesday india opener rohit sharma broke the world record for hitting most sixes against an opponent in international cricket across all formats the 31 year old who has now hit 89 sixes against australia overtook windies chris gayle who has slammed 88 sixes against england \n",
            "Original summary: start rohit sets world record for most sixes against an end \n",
            "Predicted summary:  start i don want to do my kohli on the universe end\n",
            "\n",
            "\n",
            "Review: nasa has said that its hubble space telescope premier camera stopped working after hardware problem on tuesday the wide field camera installed by astronauts in 2009 has backup electronics and the telescope will continue making scientific observations with its other three instruments nasa added hubble had gone into last october following issue \n",
            "Original summary: start space telescope main camera down nasa end \n",
            "Predicted summary:  start i was the my was on the accidental end\n",
            "\n",
            "\n",
            "Review: george the last known land of its species died on january according to the department of land and natural resources hawaii was the first of over 750 land of the region described in western medicine the rare 14 year old had been living in lab run by university of hawaii since 1997 \n",
            "Original summary: start george last land of its dies end \n",
            "Predicted summary:  start i am the of the accidental end\n",
            "\n",
            "\n",
            "Review: after alok verma was removed from the post of cbi director former chief justice of india lodha said time has come for it the cbi to be from political executive lodha said if the political executive continues to have control these types of things will adding supreme court has already evolved mechanism for cbi to function independently \n",
            "Original summary: start time to cbi from political ex cji end \n",
            "Predicted summary:  start pm modi inaugurates in end\n",
            "\n",
            "\n",
            "Review: jammu and kashmir governor satya pal malik has said that he feels even if terrorist his life and urged militants to return to the mainstream malik added his administration was in the process of new package for the rehabilitation of terrorists he further lauded the security forces efforts in curbing terrorist activities in the state \n",
            "Original summary: start i feel even if terrorist loses his life governor end \n",
            "Predicted summary:  start i am the of the accidental end\n",
            "\n",
            "\n",
            "Review: the aerospace unit of wipro infrastructure engineering win has started shipments of part supplies to boeing from its plant in near bengaluru the us based aircraft maker said this was to our firm commitment to boeing has contracted win to manufacture assemblies for 737 max and next generation 737 programmes \n",
            "Original summary: start wipro business starts parts to boeing end \n",
            "Predicted summary:  start i don want to be on the day end\n",
            "\n",
            "\n",
            "Review: prithvi shaw will miss the entire test series against australia after failing to recover from the ankle injury he sustained during the warm up match last month batsman mayank agarwal has been named as shaw replacement further hardik pandya who recovered from his injury and took five wicket haul in ranji match has also been added to the squad \n",
            "Original summary: start injured shaw out of australia tests pandya returns after end \n",
            "Predicted summary:  start i don want to do my kohli end\n",
            "\n",
            "\n",
            "Review: pm narendra modi on sunday took to twitter to express grief at the loss of lives and caused due to volcano triggered tsunami in indonesia condolences to the families and wishing the injured an early recovery he wrote he further assured that india is ready to assist our maritime neighbour and friend in relief work \n",
            "Original summary: start pm modi loss of lives due to tsunami in indonesia end \n",
            "Predicted summary:  start pm modi inaugurates in end\n",
            "\n",
            "\n",
            "Review: appleã¢ââs group of contract manufacturers including foxconn are not in settlement talks with qualcomm in the apple dispute according to the lead attorney qualcomm had sued the group last year over alleged non payment of patent related to apple products the group had then qualcomm for 9 billion over alleged illegal patent \n",
            "Original summary: start no talks among qualcomm in apple dispute end \n",
            "Predicted summary:  start i don want to be on the day end\n",
            "\n",
            "\n",
            "Review: the central pollution control board has asked the delhi police to ensure that the supreme court order on burning of crackers is followed on new year eve according to the order only green crackers can be used for stipulated time of two hours the order was violated during diwali this year with burning of toxic firecrackers \n",
            "Original summary: start ensure ban in delhi end \n",
            "Predicted summary:  start pm modi inaugurates in end\n",
            "\n",
            "\n",
            "Review: two firefighters were killed and 47 others were injured on saturday after gas leak sparked an explosion inside in the french capital of paris officials said at least 10 people are seriously injured including french interior minister said the explosion the ground floor of the building in central paris \n",
            "Original summary: start 2 killed injured in explosion at paris end \n",
            "Predicted summary:  start man who killed in encounter in delhi end\n",
            "\n",
            "\n",
            "Review: speaking about the controversy surrounding his upcoming film the accidental prime minister actor akshaye khanna said any subject like this is bound to create little controversy be surprised if it didn happen that means something is wrong the actor added akshaye plays the role of former prime minister manmohan singh media adviser in the movie \n",
            "Original summary: start to create controversy on the accidental end \n",
            "Predicted summary:  start i am the of the accidental end\n",
            "\n",
            "\n",
            "Review: sikh inmates will be kept away from former congress leader sajjan kumar jail ward in delhi mandoli jail complex reports said jail personnel have reportedly been asked to keep the two three sikh prisoners in the jail away from kumar as measure delhi high court had sentenced kumar to life imprisonment for involvement in 1984 anti sikh riots \n",
            "Original summary: start sikh to be kept away from sajjan kumar jail end \n",
            "Predicted summary:  start pm modi inaugurates in end\n",
            "\n",
            "\n",
            "Review: india new foreign investment restrictions for e commerce sector could reduce online sales by 46 billion by 2022 draft report by stated they could also affect job creation and reduce taxes collected it added e commerce have been barred from selling products of companies in which they have stake or push sellers to sell exclusively on their platforms \n",
            "Original summary: start india new rules may reduce online sales by by 2022 report end \n",
            "Predicted summary:  start i was the my was on the accidental end\n",
            "\n",
            "\n",
            "Review: a 42 year old coaching centre teacher was arrested in mumbai after 17 year old ex student revealed he sexually harassed her for year when she was aged 15 she came forward when she realised her younger sister may be sent to the same class she said she hadn revealed the incident earlier because she was afraid of being expelled from the class \n",
            "Original summary: start mumbai teacher held for teen for year end \n",
            "Predicted summary:  start us to be in us end\n",
            "\n",
            "\n",
            "Review: us based at received criticism from its rivals for misleading users after it labelled faster 4g network logo as 5g responding to it said wireless industry must resist the potential to over and under deliver on 5g weã¢ââre laying the 5g network foundation with 5g we can enable faster speeds upgrade to 5g when itã¢ââs ready at stated \n",
            "Original summary: start at with criticised for misleading end \n",
            "Predicted summary:  start i am the of the accidental end\n",
            "\n",
            "\n",
            "Review: an ola driver named was robbed by four men who his cab on friday in bengaluru and made his wife strip for them on video call they drove the car for 100 km asked for all my money had ã¢ââ¹9 000 in bank ã¢ââ¹20 000 in my paytm account said the culprits took him to from where he escaped \n",
            "Original summary: start ola driver in bengaluru wife forced to on video call end \n",
            "Predicted summary:  start us to be in us end\n",
            "\n",
            "\n",
            "Review: ex pakistan pacer younis was known as the banana swing bowler due to his technique of the ball in the air at very high speed the banana swing delivery from the moment it leaves the bowler hand and follows shaped path similar to banana younis who turned 47 on friday was also nicknamed express \n",
            "Original summary: start what is used to end \n",
            "Predicted summary:  start i was the my was on the accidental end\n",
            "\n",
            "\n",
            "Review: the wing of an air india plane with on board went inside building after the plane struck the building at airport the passengers could from the plane on mobile staircase and thereafter enter the terminal said police according to airport operator website the flight had in new delhi \n",
            "Original summary: start of air india plane with people hits building end \n",
            "Predicted summary:  start us to be in us end\n",
            "\n",
            "\n",
            "Review: responding to the bent pro controversy apple in new support page said straight and presence of in pro may make in more visible it said the was result of the product manufacturing and process apple added that the don affect the products strength or functioning \n",
            "Original summary: start apple responds to pro row with new support end \n",
            "Predicted summary:  start us startup raises crore end\n",
            "\n",
            "\n",
            "Review: sydney thunder all rounder shane watson five year old son william entered the ground and took his father during the sydney based side bbl match against adelaide strikers watson who retired from international cricket in 2016 signed his son cap before giving another on his shirt and hugging him moment to remember for shane watson and his son will bbl tweeted \n",
            "Original summary: start 5 year old son enters ground takes his father end \n",
            "Predicted summary:  start i was the my was on the accidental end\n",
            "\n",
            "\n",
            "Review: former world number one spanish tennis player rafael nadal has donated million to the victims of floods in his native the incidents claimed 13 lives in october in the town that neighbours nadal home of the former world number one had also made his tennis academy available for those impacted by the natural disaster \n",
            "Original summary: start nadal donates million to victims end \n",
            "Predicted summary:  start i don want to be on the day end\n",
            "\n",
            "\n",
            "Review: arjun kapoor after watching the teaser of alia bhatt and ranveer singh starrer gully boy tweeted talent ki volcano zoya akhtar with apna dil ka raja ranveer singh and mini alia bhatt arjun called alia mini while referring to who is an academy award winning american actress and has been nominated twenty one times \n",
            "Original summary: start arjun to alia after watching gully boy end \n",
            "Predicted summary:  start i don want to do my kohli on the universe end\n",
            "\n",
            "\n",
            "Review: the interpol has issued red corner notice against fugitive businessman mehul choksi on the request of central bureau of investigation cbi enforcement directorate had sent to interpol in september about its application seeking red corner notice against him choksi is key accused in over ã¢ââ¹13 000 crore pnb money laundering case \n",
            "Original summary: start issues red notice against end \n",
            "Predicted summary:  start man who killed in encounter in delhi end\n",
            "\n",
            "\n",
            "Review: private sector lender icici bank penalised the highest number of employees for their involvement in frauds between 2015 and 2017 in total scheduled commercial banks operating in india took action against 13 officials of which 16 or belonged to icici data presented in the parliament showed icici was followed by state run banks sbi and punjab national bank \n",
            "Original summary: start icici list of banks staff for fraud in 2015 2017 end \n",
            "Predicted summary:  start us to be in us end\n",
            "\n",
            "\n",
            "Review: singapore airlines has fired pilot for failing an alcohol test in september 2018 before flight from melbourne australia the pilot came after random check by australia civil aviation safety authority found higher than suitable blood alcohol limit in november an air india pilot flying licence was suspended for three years after he failed two tests \n",
            "Original summary: start singapore airlines fires pilot for failing pre flight alcohol test end \n",
            "Predicted summary:  start us to be in us end\n",
            "\n",
            "\n",
            "Review: former england captain cook who retired from international cricket in september this year has been in the new year the 34 year old who is england highest run scorer in test cricket has become the first england cricketer to be since sir ian in 2007 overall cook is the england cricketer to be \n",
            "Original summary: start cook first england cricketer to be since in end \n",
            "Predicted summary:  start i don want to be on the day end\n",
            "\n",
            "\n",
            "Review: the population of china capital beijing fell for the first time in 20 years in 2017 the chinese state media reported citing official data the number of permanent residents in beijing in 2017 was 21 7 million 22 000 fewer than the previous year beijing aims to cap its population at 23 million by the end of the decade \n",
            "Original summary: start falls for the first time in 20 years end \n",
            "Predicted summary:  start us to be in us end\n",
            "\n",
            "\n",
            "Review: a video shows us president donald trump getting confused and leaving the g20 summit stage right after shaking hands with argentina president leaving him alone on the stage during photo opportunity trump while off camera was heard saying get me out of here tried to call trump back on the stage which trump failed to listen \n",
            "Original summary: start get me out of trump after leaving g20 stage end \n",
            "Predicted summary:  start i was the my was on the accidental end\n",
            "\n",
            "\n",
            "Review: assam largest tea garden union has criticised pm modi for the of the state tea while calling himself chaiwala the union also urged the pm to implement his promise of minimum wage of for workers before next year assam labourers live in the most conditions without basic the union general secretary said \n",
            "Original summary: start pm doesn care for assam tea trade union end \n",
            "Predicted summary:  start man kills in delhi for end\n",
            "\n",
            "\n",
            "Review: cristiano ronaldo scored the match winning goal to help his side juventus beat ac milan to lift the trophy at the 31st annual ronaldo we always say the same thing that why we signed him he is and scores big goals but the whole team put in good performance juventus coach said \n",
            "Original summary: start ronaldo helps juventus beat in finals end \n",
            "Predicted summary:  start i don want to do my kohli on the universe end\n",
            "\n",
            "\n",
            "Review: the centre on monday told the supreme court that it has not abandoned the operation to rescue 15 miners trapped inside an illegal coal mine in meghalaya pumps have been constantly in use to extract water from the mine the meghalaya government said in its status report the government has made every possible effort with meghalaya government added \n",
            "Original summary: start rescue of trapped miners not centre to sc end \n",
            "Predicted summary:  start pm modi inaugurates in end\n",
            "\n",
            "\n",
            "Review: shreyas has said one can eat dal all day otherwise you would get bored similarly we actors get bored if we keep doing the same kind of roles in each film he added that it very important to do something different from the comfort zone would be challenging to convince people that can do more than comedy he said \n",
            "Original summary: start can eat dal all day on doing same of roles end \n",
            "Predicted summary:  start i don want to do my kohli end\n",
            "\n",
            "\n",
            "Review: gautam lawyer accused in the ã¢ââ¹3 600 crore agustawestland case was on friday arrested by the enforcement directorate in connection with fresh case of money laundering and possession of black money whose properties in delhi ncr were raided last week had allegedly received in other defence deals besides agustawestland during the upa tenure \n",
            "Original summary: start agustawestland accused lawyer arrested in black money case end \n",
            "Predicted summary:  start man kills in delhi for end\n",
            "\n",
            "\n",
            "Review: an uttar pradesh police constable identified as suresh was killed today by stone pelting mob in ghazipur when he was returning from his duty at prime minister narendra modi rally in the area the mob allegedly constituted of party workers demanding reservation for their community up cm yogi adityanath has announced ã¢ââ¹40 lakh compensation for the constable wife \n",
            "Original summary: start up constable from pm rally killed by stone mob end \n",
            "Predicted summary:  start pm modi inaugurates in end\n",
            "\n",
            "\n",
            "Review: us based blockchain gaming startup games has raised 16 million in series round of funding the round saw participation from investors including investment bank galaxy digital fund venture partners and cryptocurrency exchange the startup founded in 2018 plans to use the funds to develop mobile and games on blockchain platform \n",
            "Original summary: start us based startup raises 16 million end \n",
            "Predicted summary:  start i don want to do my kohli on the universe end\n",
            "\n",
            "\n",
            "Review: to check the illegal download of uri the surgical strike its makers have uploaded fake video of the film on the 3 8 video file opens with the actors planning the surgical strike however vicky kaushal and yami gautam characters later tell viewers to watch the movie in theatre saying they have into the users screens \n",
            "Original summary: start uri troll film with fake 3 8 video of the movie end \n",
            "Predicted summary:  start i am the of the accidental end\n",
            "\n",
            "\n",
            "Review: nba star lebron james said that his mention of jewish money in his instagram post was meant as compliment lebron apologised for the post after his team game against the on sunday night it definitely was not the intent obviously to hurt anybody lebron said about his instagram post \n",
            "Original summary: start says money post as end \n",
            "Predicted summary:  start i am the of the accidental end\n",
            "\n",
            "\n",
            "Review: defence research and development organisation has successfully test fired long range surface to air missile from naval chennai off the coast of odisha the missile directly hit low flying aerial target defence minister nirmala sitharaman tweeted the missile defence system has been jointly developed by and israel aerospace industries \n",
            "Original summary: start successfully test fires missile end \n",
            "Predicted summary:  start i am the of the accidental end\n",
            "\n",
            "\n",
            "Review: speaking about the indian team selection ahead of the india australia odi series former indian cricketer engineer questioned the selection of ms dhoni over an in form rishabh pant he pant will improve wish could have couple of times with him to make him good wicketkeeper engineer said about pant wicket keeping skills \n",
            "Original summary: start dhoni over in form pant engineer questions end \n",
            "Predicted summary:  start i don want to be on the day end\n",
            "\n",
            "\n",
            "Review: road transport minister nitin gadkari on saturday said the leadership should have the to own up to defeat and failures adding that loyalty towards the organisation is not proved until one takes responsibility for defeat success has many but failure is an he added gadkari remarks come days after bjp lost assembly elections in three states \n",
            "Original summary: start should own up to defeat also gadkari end \n",
            "Predicted summary:  start man who killed in encounter in delhi end\n",
            "\n",
            "\n",
            "Review: congress chief rahul gandhi who is soon expected to announce the names of of three states on thursday said they are taking inputs from mlas and workers he added you have to see cm soon reports have also said that gandhi sent an audio message to party workers asking them about who they want to lead their state \n",
            "Original summary: start taking from mlas workers rahul on end \n",
            "Predicted summary:  start pm modi inaugurates in end\n",
            "\n",
            "\n",
            "Review: former madhya pradesh cm shivraj singh chouhan on thursday said reports about people being given ã¢ââ¹10 ã¢ââ¹20 in the name of farm loan waiver is cruel joke he further claimed the list of beneficiaries being published in english was for farmers this comes after farmer alleged he received only ã¢ââ¹13 waiver for his loan of ã¢ââ¹23 \n",
            "Original summary: start farm loan waiver of ã¢ââ¹10 ã¢ââ¹20 joke shivraj chouhan end \n",
            "Predicted summary:  start pm modi inaugurates in end\n",
            "\n",
            "\n",
            "Review: former indian captain sourav ganguly said that indian batsman ambati rayudu has not convinced him yet while batting at the number four position in the odi side these games in australia and new zealand will be very important for him rayudu and will decide if he can be india number four or not ganguly added \n",
            "Original summary: start me yet at number ganguly end \n",
            "Predicted summary:  start i don want to do my kohli end\n",
            "\n",
            "\n",
            "Review: nasa has shared images of the most distant object ever explored captured by new horizons spacecraft from around 27 000 kilometres away the 31 km long object is nicknamed ultima thule where ultima and thule represent the object large and small spheres respectively the spheres joined as early as 99 of the way back to the formation of the solar system nasa said \n",
            "Original summary: start nasa shares of object by spacecraft end \n",
            "Predicted summary:  start us to be in us end\n",
            "\n",
            "\n",
            "Review: paris first restaurant is set to close in february 2019 because it failed to attract enough customers owners mike and who opened in november 2017 said we will only remember the good times meeting beautiful people had to leave their clothes in and wear slippers before being shown to their table \n",
            "Original summary: start paris 1st in 15 months over low customers end \n",
            "Predicted summary:  start i am the of the accidental end\n",
            "\n",
            "\n",
            "Review: iran dropped two places to become the sixth biggest oil supplier to india in november according to reuters india monthly oil imports from the gulf nation reportedly plunged to their lowest in year after india cut purchases due to the impact of us sanctions iraq and saudi arabia continued to be the top two oil sellers to india \n",
            "Original summary: start iran falls to 6th biggest oil to india in november report end \n",
            "Predicted summary:  start i am to be in india on india end\n",
            "\n",
            "\n"
          ]
        }
      ]
    },
    {
      "cell_type": "code",
      "metadata": {
        "id": "SO-Cg7GNIFQy"
      },
      "source": [
        ""
      ],
      "execution_count": null,
      "outputs": []
    }
  ]
}